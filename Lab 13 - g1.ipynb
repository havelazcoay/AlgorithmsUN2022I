{
  "nbformat": 4,
  "nbformat_minor": 0,
  "metadata": {
    "colab": {
      "name": "Lab 13 - g1REVISAR.ipynb",
      "provenance": [],
      "collapsed_sections": []
    },
    "kernelspec": {
      "name": "python3",
      "display_name": "Python 3"
    },
    "language_info": {
      "name": "python"
    }
  },
  "cells": [
    {
      "cell_type": "markdown",
      "source": [
        "# **AlgorithmicToolbox Week 4: Divide and Conquer**"
      ],
      "metadata": {
        "id": "k6r9YQpep2px"
      }
    },
    {
      "cell_type": "markdown",
      "source": [
        "## 4-1: Binary Search"
      ],
      "metadata": {
        "id": "cUqvJe_Pp7ge"
      }
    },
    {
      "cell_type": "code",
      "source": [
        "n=int(input())\n",
        "seq = [int(i) for i in input().split()]\n",
        "n2=int(input())\n",
        "search_seq = [int(i) for i in input().split()]\n",
        "seq = seq[0:]\n",
        "\n",
        "def binary_search(seq, elt, r):\n",
        "    l = 0\n",
        "    while l<=r: \n",
        "        m = (l+r)//2\n",
        "        if elt > seq[m]:\n",
        "            l = m + 1\n",
        "        elif elt < seq[m]:\n",
        "            r = m - 1\n",
        "        else:\n",
        "            return m\n",
        "    return -1\n",
        "\n",
        "soln = list()\n",
        "for i in search_seq[0:]:\n",
        "    ans = binary_search(seq, i, n-1)\n",
        "    soln.append(ans)\n",
        "print(' '.join([str(i) for i in soln]))"
      ],
      "metadata": {
        "colab": {
          "base_uri": "https://localhost:8080/"
        },
        "id": "erQRev3bvQbB",
        "outputId": "31087d34-e4da-452c-f0a6-c818547aa201"
      },
      "execution_count": null,
      "outputs": [
        {
          "output_type": "stream",
          "name": "stdout",
          "text": [
            "5\n",
            "1 5 8 12 13\n",
            "5\n",
            "8 1 23 1 11\n",
            "2 0 -1 0 -1\n"
          ]
        }
      ]
    },
    {
      "cell_type": "markdown",
      "source": [
        "## 4-2: Binary Search with Duplicates"
      ],
      "metadata": {
        "id": "390JxcKCwRSI"
      }
    },
    {
      "cell_type": "code",
      "source": [
        "n=int(input())\n",
        "seq = [int(i) for i in input().split()]\n",
        "n2=int(input())\n",
        "search_seq = [int(i) for i in input().split()]\n",
        "seq = seq[0:]\n",
        "\n",
        "rl=[]\n",
        "for e in seq:\n",
        "    if e not in rl:\n",
        "        rl.append(e)\n",
        "\n",
        "\n",
        "def binary_search_d(seq, elt, r):\n",
        "    l = 0\n",
        "    \n",
        "    while l<=r: \n",
        "        m = l+(r-l)//2\n",
        "        \n",
        "        if elt > seq[m]:\n",
        "            l = m + 1\n",
        "        elif elt < seq[m]:\n",
        "            r = m - 1\n",
        "        else:\n",
        "            return m\n",
        "    return -1\n",
        "\n",
        "soln = list()\n",
        "for i in search_seq[0:]:\n",
        "    ans = binary_search_d(seq, i, n-1)\n",
        "    soln.append(ans)\n",
        "print(' '.join([str(i) for i in soln]))"
      ],
      "metadata": {
        "colab": {
          "base_uri": "https://localhost:8080/"
        },
        "id": "Rhc1Q4bjwUnd",
        "outputId": "9a7720c3-8ac0-4e25-b6a1-630df55bf340"
      },
      "execution_count": null,
      "outputs": [
        {
          "output_type": "stream",
          "name": "stdout",
          "text": [
            "7\n",
            "2 4 4 4 7 7 9\n",
            "4\n",
            "9 4 5 2\n",
            "6 3 -1 0\n"
          ]
        }
      ]
    },
    {
      "cell_type": "markdown",
      "source": [
        "##4-3: Majority Element"
      ],
      "metadata": {
        "id": "p16HEjfHwUuY"
      }
    },
    {
      "cell_type": "code",
      "source": [
        "n = int(input())\n",
        "seq = [int(i) for i in input().split()]\n",
        "\n",
        "\n",
        "def divide_func(seq, l, r):\n",
        "    if l+1==r:\n",
        "        return seq[l]\n",
        "    elif l+2==r:\n",
        "        return seq[l]\n",
        "    m = (l+r)//2\n",
        "    left = divide_func(seq, l, m)\n",
        "    right = divide_func(seq, m, r)\n",
        "\n",
        "    c1, c2 = 0, 0\n",
        "    for i in seq[l:r]:\n",
        "        if i == left:\n",
        "            c1+=1\n",
        "        elif i == right:\n",
        "            c2+=1\n",
        "    if c1>(r-l)//2 and left != -1:\n",
        "        return left\n",
        "    elif c2>(r-l)//2 and right != -1:\n",
        "        return right\n",
        "    else: \n",
        "        return -1\n",
        "\n",
        "print(int(divide_func(seq, 0, n) != -1))"
      ],
      "metadata": {
        "colab": {
          "base_uri": "https://localhost:8080/"
        },
        "id": "_NWzStqPwXMQ",
        "outputId": "b9e6221b-0d2f-493d-cc96-a49bc568283e"
      },
      "execution_count": null,
      "outputs": [
        {
          "output_type": "stream",
          "name": "stdout",
          "text": [
            "5\n",
            "2 3 9 2 2\n",
            "1\n"
          ]
        }
      ]
    },
    {
      "cell_type": "markdown",
      "source": [
        "##4-4: Improving QuickSort"
      ],
      "metadata": {
        "id": "n7N12n_CwXTX"
      }
    },
    {
      "cell_type": "code",
      "source": [
        "import random\n",
        "\n",
        "def p(a, l, r):\n",
        "    \n",
        "    x = a[l]\n",
        "    m1 = l\n",
        "    m2 = l\n",
        "    for i in range(l + 1, r + 1):\n",
        "    \tif a[i] < x:\n",
        "        \ta[i],a[m1] = a[m1],a[i]\n",
        "        \tm1+=1\n",
        "        \tm2+=1\n",
        "        \ta[i],a[m2] = a[m2],a[i]\n",
        "    \telif a[i] == x:\n",
        "        \tm2+=1\n",
        "        \ta[i],a[m2] = a[m2],a[i]\n",
        "\n",
        "    return m1,m2\n",
        "\n",
        "\n",
        "def sort_quick(a, l, r):\n",
        "\n",
        "    if l >= r:\n",
        "        return\n",
        "\n",
        "    k = random.randint(l, r)\n",
        "    a[l], a[k] = a[k], a[l]\n",
        "    j,k = p(a, l, r)\n",
        "    sort_quick(a, l, j-1)\n",
        "    sort_quick(a, k+1, r)\n",
        "\n",
        "\n",
        "n = int(input())\n",
        "\n",
        "a = list(map(int, input().split()))\n",
        "\n",
        "sort_quick(a, 0, n - 1)\n",
        "\n",
        "for x in a:\n",
        "    print(x, end=' ')"
      ],
      "metadata": {
        "colab": {
          "base_uri": "https://localhost:8080/"
        },
        "id": "-MFmOHsfwYeI",
        "outputId": "802130dd-2ea7-4757-9058-c98c81fc0b2e"
      },
      "execution_count": null,
      "outputs": [
        {
          "output_type": "stream",
          "name": "stdout",
          "text": [
            "5\n",
            "2 3 9 2 2\n",
            "2 2 2 3 9 "
          ]
        }
      ]
    },
    {
      "cell_type": "markdown",
      "source": [
        "##4-5: Inversions"
      ],
      "metadata": {
        "id": "z7VtE7PJwYpv"
      }
    },
    {
      "cell_type": "code",
      "source": [
        "def merge(left, right):\n",
        "    i, j, inversion_counter = 0, 0, 0\n",
        "    final = list()\n",
        "    while i < len(left) and j< len(right):\n",
        "        if left[i] <= right[j]:\n",
        "            final.append(left[i])\n",
        "            i += 1\n",
        "        else:\n",
        "            final.append(right[j])\n",
        "            inversion_counter += len(left) - i\n",
        "            j += 1\n",
        "\n",
        "    final += left[i:]\n",
        "    final += right[j:]\n",
        "        \n",
        "    return final, inversion_counter\n",
        "\n",
        "def mergesort(arr):\n",
        "    global tot_count\n",
        "    if len(arr) <= 1:\n",
        "        return arr\n",
        "    mid = len(arr)//2\n",
        "\n",
        "    left = mergesort(arr[:mid])\n",
        "    right = mergesort(arr[mid:])\n",
        "\n",
        "    sorted_arr, temp = merge(left, right)\n",
        "    tot_count += temp\n",
        "\n",
        "    return sorted_arr\n",
        "\n",
        "tot_count = 0\n",
        "n = int(input())\n",
        "seq = [int(i) for i in input().split()]\n",
        "mergesort(seq)\n",
        "print(tot_count)"
      ],
      "metadata": {
        "colab": {
          "base_uri": "https://localhost:8080/"
        },
        "id": "IHtTYT-7wcwI",
        "outputId": "4b821904-5ec6-4a85-8bf3-90c6a20f2086"
      },
      "execution_count": null,
      "outputs": [
        {
          "output_type": "stream",
          "name": "stdout",
          "text": [
            "5\n",
            "2 3 9 2 9\n",
            "2\n"
          ]
        }
      ]
    },
    {
      "cell_type": "markdown",
      "source": [
        "##4-6: Organizing a Lottery"
      ],
      "metadata": {
        "id": "ia4tmA9Bwc8A"
      }
    },
    {
      "cell_type": "code",
      "source": [
        "master_list = list()\n",
        "s, p = [int(i) for i in input().split()]\n",
        "\n",
        "for i in range(s):\n",
        "    a, b = [int(i) for i in input().split()]\n",
        "    master_list.append((a,'l'))\n",
        "    master_list.append((b,'r'))\n",
        "\n",
        "points = input().split()\n",
        "for i in points:\n",
        "    master_list.append((int(i),'p'))\n",
        "\n",
        "master_list.sort()\n",
        "\n",
        "segment_count = 0\n",
        "point_segment_map = dict()\n",
        "for i in master_list:\n",
        "    if i[1] == 'l': segment_count += 1\n",
        "    elif i[1] == 'r': segment_count -= 1\n",
        "    else:\n",
        "        point_segment_map[i[0]] = segment_count\n",
        "\n",
        "temp = ''\n",
        "for i in points:\n",
        "    temp += str(point_segment_map[int(i)]) + ' '\n",
        "print(temp[:-1])"
      ],
      "metadata": {
        "colab": {
          "base_uri": "https://localhost:8080/"
        },
        "id": "dGl-3ikawewg",
        "outputId": "f91dcbf5-bf5b-4a75-9521-a39a76d8c3a8"
      },
      "execution_count": null,
      "outputs": [
        {
          "output_type": "stream",
          "name": "stdout",
          "text": [
            "2 3\n",
            "0 5\n",
            "7 10\n",
            "1 6 11\n",
            "1 0 0\n"
          ]
        }
      ]
    },
    {
      "cell_type": "markdown",
      "source": [
        "##4-7:Closest Points"
      ],
      "metadata": {
        "id": "pzOzdpi9we2Z"
      }
    },
    {
      "cell_type": "code",
      "source": [
        "import math\n",
        "def dist(p1, p2):\n",
        "    return math.sqrt((p1[0] - p2[0]) ** 2 + (p1[1] - p2[1]) ** 2)\n",
        "\n",
        "def closest_split_pair(p_x, p_y, delta, best_pair):\n",
        "    ln_x = len(p_x)  \n",
        "    mx_x = p_x[ln_x // 2][0] \n",
        "\n",
        "\n",
        "    s_y = [x for x in p_y if mx_x - delta <= x[0] <= mx_x + delta]\n",
        "\n",
        "    best = delta  \n",
        "    ln_y = len(s_y)  \n",
        "    for i in range(ln_y - 1):\n",
        "        for j in range(i+1, min(i + 5, ln_y)):    \n",
        "            p, q = s_y[i], s_y[j]\n",
        "            dst = dist(p, q)\n",
        "            if dst < best:\n",
        "                best_pair = p, q\n",
        "                best = dst\n",
        "    return best_pair[0], best_pair[1], best\n",
        "\n",
        "\n",
        "def brute(ax):\n",
        "    mi = dist(ax[0], ax[1])\n",
        "    p1 = ax[0]\n",
        "    p2 = ax[1]\n",
        "    ln_ax = len(ax)\n",
        "    if ln_ax == 2:\n",
        "        return p1, p2, mi\n",
        "    for i in range(ln_ax-1):\n",
        "        for j in range(i + 1, ln_ax):\n",
        "            if i != 0 and j != 1:\n",
        "                d = dist(ax[i], ax[j])\n",
        "                if d < mi: \n",
        "                    mi = d\n",
        "                    p1, p2 = ax[i], ax[j]\n",
        "    return p1, p2, mi\n",
        "\n",
        "\n",
        "def closest_pair(ax, ay):\n",
        "    ln_ax = len(ax)  \n",
        "    if ln_ax <= 3:\n",
        "        return brute(ax)  \n",
        "    mid = ln_ax // 2  \n",
        "    Qx = ax[:mid]  \n",
        "    Rx = ax[mid:]\n",
        "\n",
        "    midpoint = ax[mid][0]\n",
        "    Qy = list()\n",
        "    Ry = list()\n",
        "    for x in ay:  \n",
        "        if x[0] < midpoint:\n",
        "           Qy.append(x)\n",
        "        else:\n",
        "           Ry.append(x)\n",
        " \n",
        "    (p1, q1, mi1) = closest_pair(Qx, Qy)\n",
        "    (p2, q2, mi2) = closest_pair(Rx, Ry)\n",
        "\n",
        "\n",
        "    if mi1 <= mi2:\n",
        "        d = mi1\n",
        "        mn = (p1, q1)\n",
        "    else:\n",
        "        d = mi2\n",
        "        mn = (p2, q2)\n",
        "\n",
        "    (p3, q3, mi3) = closest_split_pair(ax, ay, d, mn)\n",
        "\n",
        "    if d <= mi3:\n",
        "        return mn[0], mn[1], d\n",
        "    else:\n",
        "        return p3, q3, mi3\n",
        "\n",
        "\n",
        "def solution(a):\n",
        "    ax = sorted(a, key=lambda x: x[0])  \n",
        "    ay = sorted(a, key=lambda x: (x[1], x[0]))  \n",
        "    p1, p2, mi = closest_pair(ax, ay)  \n",
        "    return mi\n",
        "\n",
        "\n",
        "\n",
        "points = list()\n",
        "n = int(input())\n",
        "for i in range(n):\n",
        "    points.append([int(i) for i in input().split()])\n",
        "\n",
        "print(solution(points))"
      ],
      "metadata": {
        "colab": {
          "base_uri": "https://localhost:8080/"
        },
        "id": "sGmSRWxCwgeX",
        "outputId": "26a35c30-2489-4ac6-bfba-9152c57a09f8"
      },
      "execution_count": null,
      "outputs": [
        {
          "output_type": "stream",
          "name": "stdout",
          "text": [
            "2\n",
            "1 1\n",
            "7 5\n",
            "7.211102550927978\n"
          ]
        }
      ]
    }
  ]
}