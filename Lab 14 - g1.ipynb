{
  "nbformat": 4,
  "nbformat_minor": 0,
  "metadata": {
    "colab": {
      "name": "Lab 14 - g1REVISAR.ipynb",
      "provenance": [],
      "collapsed_sections": []
    },
    "kernelspec": {
      "name": "python3",
      "display_name": "Python 3"
    },
    "language_info": {
      "name": "python"
    }
  },
  "cells": [
    {
      "cell_type": "markdown",
      "source": [
        "# **AlgorithmicToolbox Week 5: Dynamic Programming 1**"
      ],
      "metadata": {
        "id": "_YuxGSlyEFOt"
      }
    },
    {
      "cell_type": "markdown",
      "source": [
        "#5.1: Money change again"
      ],
      "metadata": {
        "id": "ENzMMacmEQn2"
      }
    },
    {
      "cell_type": "code",
      "execution_count": null,
      "metadata": {
        "colab": {
          "base_uri": "https://localhost:8080/"
        },
        "id": "hwHbZm9MD3yL",
        "outputId": "9c10f87b-a7ae-4d3e-e1e0-7a8cfa8ceb02"
      },
      "outputs": [
        {
          "output_type": "stream",
          "name": "stdout",
          "text": [
            "15\n",
            "4\n"
          ]
        }
      ],
      "source": [
        "import math\n",
        "\n",
        "money = int(input())\n",
        "denominations = [1, 3, 4]\n",
        "minCoins = [0] + [math.inf]*money\n",
        "\n",
        "for i in range(1, money+1):\n",
        "    for j in denominations:\n",
        "        if i>=j:\n",
        "            coins = minCoins[i-j]+1\n",
        "            if coins < minCoins[i]:\n",
        "                minCoins[i] = coins\n",
        "\n",
        "print(minCoins[money])"
      ]
    },
    {
      "cell_type": "markdown",
      "source": [
        "#5-2: Primitive Calculator"
      ],
      "metadata": {
        "id": "R-IxwrjHFI2N"
      }
    },
    {
      "cell_type": "code",
      "source": [
        "import math\n",
        "\n",
        "n = int(input())\n",
        "\n",
        "\n",
        "num_operations = [0, 0] + [math.inf]*(n-1)\n",
        "\n",
        "for i in range(2, n+1):\n",
        "    temp1, temp2, temp3 = [math.inf]*3\n",
        "\n",
        "    temp1 = num_operations[i-1] + 1 \n",
        "    if i%2 == 0: temp2 = num_operations[i//2] + 1\n",
        "    if i%3 == 0: temp3 = num_operations[i//3] + 1\n",
        "    min_ops = min(temp1, temp2, temp3)\n",
        "    num_operations[i] = min_ops\n",
        "\n",
        "print(num_operations[n])\n",
        "\n",
        "\n",
        "nums = [n]\n",
        "while n!=1:\n",
        "    if n%3 ==0 and num_operations[n]-1 == num_operations[n//3]:\n",
        "        nums += [n//3]\n",
        "        n = n//3\n",
        "    elif n%2 ==0 and num_operations[n]-1 == num_operations[n//2]:\n",
        "        nums += [n//2]\n",
        "        n = n//2\n",
        "    else:\n",
        "        nums += [n-1]\n",
        "        n = n - 1\n",
        "\n",
        "print(' '.join([str(i) for i in nums][::-1]))"
      ],
      "metadata": {
        "colab": {
          "base_uri": "https://localhost:8080/"
        },
        "id": "_9ws6_0nFJ0V",
        "outputId": "115a525d-17a7-47f6-a053-aa7dcc606686"
      },
      "execution_count": null,
      "outputs": [
        {
          "output_type": "stream",
          "name": "stdout",
          "text": [
            "10\n",
            "3\n",
            "1 3 9 10\n"
          ]
        }
      ]
    },
    {
      "cell_type": "markdown",
      "source": [
        "#5-3: Edit Distance"
      ],
      "metadata": {
        "id": "Iam5L_kHFLLl"
      }
    },
    {
      "cell_type": "code",
      "source": [
        "import numpy\n",
        "\n",
        "def EditDistance(s1, s2):\n",
        "\n",
        "    ln_s1 = len(s1)\n",
        "    ln_s2 = len(s2)\n",
        "\n",
        "    Matrix = numpy.zeros((ln_s1+1 , ln_s2+1))\n",
        "    for i in range(ln_s2+1):\n",
        "        Matrix[0][i] = i\n",
        "\n",
        "    for i in range(ln_s1+1):\n",
        "        Matrix[i][0] = i\n",
        "\n",
        "\n",
        "    for i in range(1, ln_s1+1):\n",
        "        for j in range(1, ln_s2+1):\n",
        "            insertion = Matrix[i][j-1]   + 1\n",
        "            deletion  = Matrix[i-1][j]   + 1\n",
        "            mismatch  = Matrix[i-1][j-1] + 1\n",
        "            match     = Matrix[i-1][j-1]\n",
        "            if s1[i-1] == s2[j-1]:\n",
        "                Matrix[i][j] = min(insertion, deletion, match)\n",
        "            if s1[i-1] != s2[j-1]:\n",
        "                Matrix[i][j] = min(insertion, deletion, mismatch)\n",
        "    \n",
        "    return (int(Matrix[ln_s1][ln_s2]), Matrix)\n",
        "\n",
        "def OptimalAlignment(Matrix, s1, s2, top, bottom, i, j):\n",
        "\n",
        "    if i == 0 and j == 0:\n",
        "        return (' '.join(top[::-1]), ' '.join(bottom[::-1]))\n",
        "\n",
        "    if i>0 and Matrix[i][j] == Matrix[i-1][j] + 1:\n",
        "        top.append(f'|{s1[i-1]}|')\n",
        "        bottom.append('|-|')\n",
        "        return OptimalAlignment(Matrix, s1, s2, top, bottom, i-1, j)\n",
        "\n",
        "    elif j>0 and Matrix[i][j] == Matrix[i][j-1] + 1:\n",
        "        bottom.append(f'|{s2[j-1]}|')\n",
        "        top.append('|-|')\n",
        "        return OptimalAlignment(Matrix, s1, s2, top, bottom, i, j-1)\n",
        "\n",
        "    else:\n",
        "        top.append(f'|{s1[i-1]}|')\n",
        "        bottom.append(f'|{s2[j-1]}|')\n",
        "        return OptimalAlignment(Matrix, s1, s2, top, bottom, i-1, j-1)\n",
        "\n",
        "if __name__ == '__main__':\n",
        "    s1, s2 = input(), input()\n",
        "    edit_distance, Matrix = EditDistance(s1, s2)\n",
        "    top, bottom = OptimalAlignment(Matrix, s1, s2, [], [], len(s1), len(s2))\n",
        "\n",
        "    print(edit_distance)"
      ],
      "metadata": {
        "colab": {
          "base_uri": "https://localhost:8080/"
        },
        "id": "nEsyZ3KLFMOv",
        "outputId": "38db1429-2738-4fde-aa60-628432dcd04a"
      },
      "execution_count": null,
      "outputs": [
        {
          "output_type": "stream",
          "name": "stdout",
          "text": [
            "ab\n",
            "ab\n",
            "0\n"
          ]
        }
      ]
    },
    {
      "cell_type": "markdown",
      "source": [
        "#5-4: Longest Common Subsequence of Two Sequence"
      ],
      "metadata": {
        "id": "9UHdOEI9FNZ1"
      }
    },
    {
      "cell_type": "code",
      "source": [
        "n = int(input())\n",
        "a = list(map(int, input().split()))\n",
        "m = int(input())\n",
        "b = list(map(int, input().split()))\n",
        "\n",
        "lsm = [[0 for i in range(m + 1)] for j in range(n + 1)]\n",
        "\n",
        "for i in range(1, n+1):\n",
        "    for j in range(1, m+1):\n",
        "        if a[i-1] == b[j-1]:\n",
        "            lsm[i][j] = lsm[i-1][j-1] + 1\n",
        "        elif a[i-1] != b[j-1]:\n",
        "            lsm[i][j] = max(lsm[i-1][j-1], lsm[i-1][j], lsm[i][j-1])\n",
        "\n",
        "print(lsm[n][m])"
      ],
      "metadata": {
        "colab": {
          "base_uri": "https://localhost:8080/"
        },
        "id": "iJmNK_wNFPI2",
        "outputId": "7fac6c79-9e7f-4255-efd6-4f94f36a4eb1"
      },
      "execution_count": null,
      "outputs": [
        {
          "output_type": "stream",
          "name": "stdout",
          "text": [
            "3\n",
            "1 2 3\n",
            "3\n",
            "3 2 1\n",
            "1\n"
          ]
        }
      ]
    },
    {
      "cell_type": "markdown",
      "source": [
        "#5-5: Longest Common Subsequence of Three Sequence"
      ],
      "metadata": {
        "id": "m4V3NWU7FPPd"
      }
    },
    {
      "cell_type": "code",
      "source": [
        "import sys\n",
        "\n",
        "an = int(input())\n",
        "a = list(map(int, input().split()))\n",
        "bn = int(input())\n",
        "b = list(map(int, input().split()))\n",
        "cn = int(input())\n",
        "c = list(map(int, input().split()))\n",
        "\n",
        "T = [[[0]*(len(a)+1) for _ in range(len(b)+1)] for ex in range(len(c)+1)]\n",
        "for i in range(1,len(a)+1):\n",
        "    for j in range(1,len(b)+1):\n",
        "        for k in range(1,len(c)+1):\n",
        "            if a[i-1]==b[j-1]==c[k-1]:\n",
        "                T[k][j][i] = T[k-1][j-1][i-1] + 1\n",
        "            else :\n",
        "                T[k][j][i] = max(T[k-1][j][i],T[k][j-1][i],T[k][j][i-1])\n",
        "\n",
        "print(T[k][j][i])"
      ],
      "metadata": {
        "colab": {
          "base_uri": "https://localhost:8080/"
        },
        "id": "9GiF-FCgFQcV",
        "outputId": "c6a760ce-d830-4384-928b-ae46f01c0ce4"
      },
      "execution_count": null,
      "outputs": [
        {
          "output_type": "stream",
          "name": "stdout",
          "text": [
            "3\n",
            "1 2 3\n",
            "3\n",
            "2 1 3\n",
            "3\n",
            "1 3 5\n",
            "2\n"
          ]
        }
      ]
    }
  ]
}