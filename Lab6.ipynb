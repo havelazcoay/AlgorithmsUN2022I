{
  "cells": [
    {
      "cell_type": "markdown",
      "metadata": {
        "id": "view-in-github",
        "colab_type": "text"
      },
      "source": [
        "<a href=\"https://colab.research.google.com/github/havelazcoay/AlgorithmsUN2022I/blob/main/Lab6.ipynb\" target=\"_parent\"><img src=\"https://colab.research.google.com/assets/colab-badge.svg\" alt=\"Open In Colab\"/></a>"
      ]
    },
    {
      "cell_type": "markdown",
      "metadata": {
        "id": "N1ok_-56OjB1"
      },
      "source": [
        "# I Solving the Sum of Two Digits Programming Challenge"
      ]
    },
    {
      "cell_type": "markdown",
      "metadata": {
        "id": "MMY7kmDSO0KM"
      },
      "source": [
        "## C++"
      ]
    },
    {
      "cell_type": "code",
      "execution_count": null,
      "metadata": {
        "colab": {
          "base_uri": "https://localhost:8080/"
        },
        "id": "2pGGf9BkPNIk",
        "outputId": "a4bd3f91-97f4-407f-e140-33f0b245e75d"
      },
      "outputs": [
        {
          "output_type": "stream",
          "name": "stdout",
          "text": [
            "Overwriting APlusB.cpp\n"
          ]
        }
      ],
      "source": [
        "%%writefile APlusB.cpp\n",
        "#include <iostream>\n",
        "\n",
        "int sum_of_two_digits(int first_digit, int second_digit) {\n",
        "    return first_digit + second_digit;\n",
        "}\n",
        "\n",
        "int main() {\n",
        "    int a = 0;\n",
        "    int b = 0;\n",
        "    std::cin >> a;\n",
        "    std::cin >> b;\n",
        "    std::cout << sum_of_two_digits(a, b);\n",
        "    return 0;\n",
        "}"
      ]
    },
    {
      "cell_type": "code",
      "execution_count": null,
      "metadata": {
        "id": "0G3ZKOYAPXSU",
        "colab": {
          "base_uri": "https://localhost:8080/"
        },
        "outputId": "726a7236-f5b4-4ae2-a80a-df8095be84a0"
      },
      "outputs": [
        {
          "output_type": "stream",
          "name": "stdout",
          "text": [
            "20 5\n",
            "25"
          ]
        }
      ],
      "source": [
        "!g++ APlusB.cpp -o APlusB\n",
        "!./APlusB"
      ]
    },
    {
      "cell_type": "markdown",
      "metadata": {
        "id": "iNkG2HqfTl9c"
      },
      "source": [
        "### Test input output files"
      ]
    },
    {
      "cell_type": "code",
      "execution_count": null,
      "metadata": {
        "colab": {
          "base_uri": "https://localhost:8080/"
        },
        "id": "aTzU2efzMxly",
        "outputId": "9a0af981-27fe-4386-a9a8-416f08d9dcec"
      },
      "outputs": [
        {
          "output_type": "stream",
          "name": "stdout",
          "text": [
            "Writing input1.txt\n"
          ]
        }
      ],
      "source": [
        "%%writefile input1.txt\n",
        "4 8"
      ]
    },
    {
      "cell_type": "markdown",
      "metadata": {
        "id": "pdkfsvs-T0Wr"
      },
      "source": [
        ""
      ]
    },
    {
      "cell_type": "code",
      "execution_count": null,
      "metadata": {
        "colab": {
          "base_uri": "https://localhost:8080/"
        },
        "id": "zBJ0Gc0NQRet",
        "outputId": "b4a47fe3-60d9-446c-b4c5-4237005b8db0"
      },
      "outputs": [
        {
          "output_type": "stream",
          "name": "stdout",
          "text": [
            "Writing output1.txt\n"
          ]
        }
      ],
      "source": [
        "%%writefile output1.txt\n",
        "12"
      ]
    },
    {
      "cell_type": "code",
      "execution_count": null,
      "metadata": {
        "colab": {
          "base_uri": "https://localhost:8080/"
        },
        "id": "IjEcIx63PJAN",
        "outputId": "ecd85555-fde0-4662-a688-e35884ee85b6"
      },
      "outputs": [
        {
          "output_type": "stream",
          "name": "stdout",
          "text": [
            "Writing input2.txt\n"
          ]
        }
      ],
      "source": [
        "%%writefile input2.txt\n",
        "-5 9"
      ]
    },
    {
      "cell_type": "code",
      "execution_count": null,
      "metadata": {
        "colab": {
          "base_uri": "https://localhost:8080/"
        },
        "id": "Up9gOrxURTmd",
        "outputId": "ce2c23a5-9241-431e-bcb5-1ce9c4c29461"
      },
      "outputs": [
        {
          "output_type": "stream",
          "name": "stdout",
          "text": [
            "Writing output2.txt\n"
          ]
        }
      ],
      "source": [
        "%%writefile output2.txt\n",
        "4"
      ]
    },
    {
      "cell_type": "code",
      "execution_count": null,
      "metadata": {
        "colab": {
          "base_uri": "https://localhost:8080/"
        },
        "id": "PST6G-s-Pwgc",
        "outputId": "aca83dd7-cfd5-4eba-ccb4-fb258ffab160"
      },
      "outputs": [
        {
          "output_type": "stream",
          "name": "stdout",
          "text": [
            "12"
          ]
        }
      ],
      "source": [
        "!./APlusB < input1.txt"
      ]
    },
    {
      "cell_type": "code",
      "execution_count": null,
      "metadata": {
        "colab": {
          "base_uri": "https://localhost:8080/"
        },
        "id": "cKxZOjSlRfIN",
        "outputId": "7c5629f5-ad78-455d-b89e-b54b3a637e7f"
      },
      "outputs": [
        {
          "output_type": "stream",
          "name": "stdout",
          "text": [
            "4"
          ]
        }
      ],
      "source": [
        "!./APlusB < input2.txt"
      ]
    },
    {
      "cell_type": "markdown",
      "metadata": {
        "id": "Qw2TQWCCUwqk"
      },
      "source": [
        "### Comparing files with grep\n",
        "\n",
        "https://askubuntu.com/questions/546796/comparing-two-text-files"
      ]
    },
    {
      "cell_type": "code",
      "execution_count": null,
      "metadata": {
        "id": "WVIaAmMKU4QM"
      },
      "outputs": [],
      "source": [
        "!grep -xvFf output1.txt output1.txt "
      ]
    },
    {
      "cell_type": "code",
      "execution_count": null,
      "metadata": {
        "colab": {
          "base_uri": "https://localhost:8080/"
        },
        "id": "MQU8gPPjQuYO",
        "outputId": "b7612824-f2cb-49aa-dc57-1e62519f48c2"
      },
      "outputs": [
        {
          "output_type": "stream",
          "name": "stdout",
          "text": [
            "4\n"
          ]
        }
      ],
      "source": [
        "!grep -xvFf output1.txt output2.txt "
      ]
    },
    {
      "cell_type": "code",
      "execution_count": null,
      "metadata": {
        "colab": {
          "base_uri": "https://localhost:8080/"
        },
        "id": "jYL9OuYBTD_l",
        "outputId": "6bc92bc4-6c58-4907-9ce6-8a3041f3d82b"
      },
      "outputs": [
        {
          "output_type": "stream",
          "name": "stdout",
          "text": [
            "12\n"
          ]
        }
      ],
      "source": [
        "!grep -xvFf output2.txt output1.txt "
      ]
    },
    {
      "cell_type": "code",
      "execution_count": null,
      "metadata": {
        "id": "Jlja0Xm4TX9M"
      },
      "outputs": [],
      "source": [
        "!./APlusB < input1.txt> ctest1.txt\n",
        "!grep -xvFf output1.txt ctest1.txt"
      ]
    },
    {
      "cell_type": "code",
      "execution_count": null,
      "metadata": {
        "id": "g9OIUZA_QLCQ"
      },
      "outputs": [],
      "source": [
        "!./APlusB < input2.txt > ctest2.txt\n",
        "!grep -xvFf output2.txt ctest2.txt"
      ]
    },
    {
      "cell_type": "markdown",
      "metadata": {
        "id": "3BgOaDjUVJk6"
      },
      "source": [
        "## Python"
      ]
    },
    {
      "cell_type": "code",
      "execution_count": null,
      "metadata": {
        "colab": {
          "base_uri": "https://localhost:8080/"
        },
        "id": "DBvl-T0CTN_8",
        "outputId": "eba33f4c-5ae4-436e-de49-89f61b7389d4"
      },
      "outputs": [
        {
          "output_type": "stream",
          "name": "stdout",
          "text": [
            "Writing sum.py\n"
          ]
        }
      ],
      "source": [
        "%%writefile sum.py\n",
        "# python3\n",
        "\n",
        "def sum_of_two_digits(first_digit, second_digit):\n",
        "    return first_digit + second_digit\n",
        "\n",
        "if __name__ == '__main__':\n",
        "    a, b = map(int, input().split())\n",
        "    print(sum_of_two_digits(a, b))"
      ]
    },
    {
      "cell_type": "code",
      "source": [
        "b=\"holhol\"\n",
        "b[0:len(b/2)]"
      ],
      "metadata": {
        "id": "Vla0xj1ObphO",
        "colab": {
          "base_uri": "https://localhost:8080/",
          "height": 183
        },
        "outputId": "8c628b02-2410-4d09-be50-311b9ddc7044"
      },
      "execution_count": null,
      "outputs": [
        {
          "output_type": "error",
          "ename": "TypeError",
          "evalue": "ignored",
          "traceback": [
            "\u001b[0;31m---------------------------------------------------------------------------\u001b[0m",
            "\u001b[0;31mTypeError\u001b[0m                                 Traceback (most recent call last)",
            "\u001b[0;32m<ipython-input-17-158a2325cd57>\u001b[0m in \u001b[0;36m<module>\u001b[0;34m()\u001b[0m\n\u001b[1;32m      1\u001b[0m \u001b[0mb\u001b[0m\u001b[0;34m=\u001b[0m\u001b[0;34m\"holhol\"\u001b[0m\u001b[0;34m\u001b[0m\u001b[0;34m\u001b[0m\u001b[0m\n\u001b[0;32m----> 2\u001b[0;31m \u001b[0mb\u001b[0m\u001b[0;34m[\u001b[0m\u001b[0;36m0\u001b[0m\u001b[0;34m:\u001b[0m\u001b[0mlen\u001b[0m\u001b[0;34m(\u001b[0m\u001b[0mb\u001b[0m\u001b[0;34m/\u001b[0m\u001b[0;36m2\u001b[0m\u001b[0;34m)\u001b[0m\u001b[0;34m]\u001b[0m\u001b[0;34m\u001b[0m\u001b[0;34m\u001b[0m\u001b[0m\n\u001b[0m",
            "\u001b[0;31mTypeError\u001b[0m: unsupported operand type(s) for /: 'str' and 'int'"
          ]
        }
      ]
    },
    {
      "cell_type": "code",
      "execution_count": null,
      "metadata": {
        "colab": {
          "base_uri": "https://localhost:8080/"
        },
        "id": "QKoKM11_WGyF",
        "outputId": "d1ee691e-c103-48fe-c956-5fdc5f053fdd"
      },
      "outputs": [
        {
          "output_type": "stream",
          "name": "stdout",
          "text": [
            "20 5\n",
            "25\n"
          ]
        }
      ],
      "source": [
        "!python sum.py"
      ]
    },
    {
      "cell_type": "code",
      "execution_count": null,
      "metadata": {
        "id": "cocFbPRTWrqt"
      },
      "outputs": [],
      "source": [
        "!python sum.py  < input1.txt> ptest1.txt\n",
        "!grep -xvFf output1.txt ptest1.txt"
      ]
    },
    {
      "cell_type": "code",
      "execution_count": null,
      "metadata": {
        "id": "MorKTa-XXASN"
      },
      "outputs": [],
      "source": [
        "!python sum.py  < input2.txt> ptest2.txt\n",
        "!grep -xvFf output2.txt ptest2.txt"
      ]
    },
    {
      "cell_type": "markdown",
      "metadata": {
        "id": "uvP-mOubW_5F"
      },
      "source": [
        "# II Solving The Maximum Pairwise Product Programming Challenge in C++"
      ]
    },
    {
      "cell_type": "markdown",
      "metadata": {
        "id": "C12yoFR6Xonl"
      },
      "source": [
        "## C++"
      ]
    },
    {
      "cell_type": "code",
      "execution_count": null,
      "metadata": {
        "colab": {
          "base_uri": "https://localhost:8080/"
        },
        "id": "YL4qJX3tXxdd",
        "outputId": "0e75c2c4-1828-4695-916e-5601fddb3728"
      },
      "outputs": [
        {
          "output_type": "stream",
          "name": "stdout",
          "text": [
            "Writing max_pairwise_product.cpp\n"
          ]
        }
      ],
      "source": [
        "%%writefile max_pairwise_product.cpp\n",
        "#include <iostream>\n",
        "#include <vector>\n",
        "#include <algorithm>\n",
        "\n",
        "int MaxPairwiseProduct(const std::vector<int>& numbers) {\n",
        "    int max_product = 0;\n",
        "    int n = numbers.size();\n",
        "\n",
        "    for (int first = 0; first < n; ++first) {\n",
        "        for (int second = first + 1; second < n; ++second) {\n",
        "            max_product = std::max(max_product,\n",
        "                numbers[first] * numbers[second]);\n",
        "        }\n",
        "    }\n",
        "\n",
        "    return max_product;\n",
        "}\n",
        "\n",
        "int main() {\n",
        "    int n;\n",
        "    std::cin >> n;\n",
        "    std::vector<int> numbers(n);\n",
        "    for (int i = 0; i < n; ++i) {\n",
        "        std::cin >> numbers[i];\n",
        "    }\n",
        "\n",
        "    std::cout << MaxPairwiseProduct(numbers) << \"\\n\";\n",
        "    return 0;\n",
        "}\n"
      ]
    },
    {
      "cell_type": "code",
      "execution_count": null,
      "metadata": {
        "colab": {
          "base_uri": "https://localhost:8080/"
        },
        "id": "KGxaEjvWX__O",
        "outputId": "5baacb4e-c754-4d0c-e177-e3f286d47aa5"
      },
      "outputs": [
        {
          "output_type": "stream",
          "name": "stdout",
          "text": [
            "20 5 5 \n",
            "20 20 20\n",
            "10 10 10\n",
            "4 4 4 4\n",
            "1\n",
            "1\n",
            "1\n",
            "1\n",
            "1\n",
            "1\n",
            "1\n",
            "1\n",
            "400\n"
          ]
        }
      ],
      "source": [
        "!g++ max_pairwise_product.cpp -o max_pairwise_product\n",
        "!./max_pairwise_product"
      ]
    },
    {
      "cell_type": "markdown",
      "metadata": {
        "id": "e7KhxHGNS3i0"
      },
      "source": [
        "### Test 1: Small numbers"
      ]
    },
    {
      "cell_type": "code",
      "execution_count": null,
      "metadata": {
        "colab": {
          "base_uri": "https://localhost:8080/"
        },
        "id": "e1mmTzBgShT-",
        "outputId": "b396afd9-2b9e-4593-9acf-86c45cc5172c"
      },
      "outputs": [
        {
          "output_type": "stream",
          "name": "stdout",
          "text": [
            "Overwriting input1.txt\n"
          ]
        }
      ],
      "source": [
        "%%writefile input1.txt\n",
        "10\n",
        "1 2 3 4 5 6 7 8 9 10"
      ]
    },
    {
      "cell_type": "code",
      "execution_count": null,
      "metadata": {
        "colab": {
          "base_uri": "https://localhost:8080/"
        },
        "id": "vy_uI0x7TCId",
        "outputId": "b354620c-0a49-4982-e0fb-929585e9fc03"
      },
      "outputs": [
        {
          "output_type": "stream",
          "name": "stdout",
          "text": [
            "1\n",
            "90\n"
          ]
        }
      ],
      "source": [
        "!./max_pairwise_product < input1.txt"
      ]
    },
    {
      "cell_type": "markdown",
      "metadata": {
        "id": "IeZ3kTjpYmR9"
      },
      "source": [
        "### Test 2: largest input numbers 200000 200000 in the input"
      ]
    },
    {
      "cell_type": "code",
      "execution_count": null,
      "metadata": {
        "colab": {
          "base_uri": "https://localhost:8080/"
        },
        "id": "LQNlZqaqYt7U",
        "outputId": "bea744ff-4d70-4f4a-a3b4-0caebbb35a04"
      },
      "outputs": [
        {
          "output_type": "stream",
          "name": "stdout",
          "text": [
            "Overwriting input2.txt\n"
          ]
        }
      ],
      "source": [
        "%%writefile input2.txt\n",
        "6\n",
        "1 3 200000 9 200000 23"
      ]
    },
    {
      "cell_type": "code",
      "execution_count": null,
      "metadata": {
        "colab": {
          "base_uri": "https://localhost:8080/"
        },
        "id": "2Wad2VZUZDxR",
        "outputId": "3adbeec5-1908-494c-dd10-9611b90cf2b9"
      },
      "outputs": [
        {
          "output_type": "stream",
          "name": "stdout",
          "text": [
            "1345294336\n"
          ]
        }
      ],
      "source": [
        "!./max_pairwise_product < input2.txt"
      ]
    },
    {
      "cell_type": "markdown",
      "metadata": {
        "id": "H2SC0Qt5HCzz"
      },
      "source": [
        "Changing the variables to long long"
      ]
    },
    {
      "cell_type": "code",
      "execution_count": null,
      "metadata": {
        "colab": {
          "base_uri": "https://localhost:8080/"
        },
        "id": "MPcmsxiQZSfE",
        "outputId": "ecee829f-90c9-4816-b7a9-0e8f97484a56"
      },
      "outputs": [
        {
          "output_type": "stream",
          "name": "stdout",
          "text": [
            "Writing max_pairwise_product_long.cpp\n"
          ]
        }
      ],
      "source": [
        "%%writefile max_pairwise_product_long.cpp\n",
        "#include <iostream>\n",
        "#include <vector>\n",
        "#include <algorithm>\n",
        "\n",
        "long long MaxPairwiseProduct(const std::vector<int>& numbers) {\n",
        "    long long max_product = 0LL;\n",
        "\t  long long aux_product = 0LL;\n",
        "    int n = numbers.size();\n",
        "\n",
        "    for (int first = 0; first < n; ++first) {\n",
        "        for (int second = first + 1; second < n; ++second) {\n",
        "\t\t\t       aux_product =  (long long) numbers[first] * numbers[second];\n",
        "            if ( max_product < aux_product)  {\n",
        "\t\t\t\t        max_product = aux_product;\n",
        "             }\n",
        "        }\n",
        "    }\n",
        "\n",
        "    return max_product;\n",
        "}\n",
        "\n",
        "int main() {\n",
        "    int n;\n",
        "    std::cin >> n;\n",
        "    std::vector<int> numbers(n);\n",
        "    for (int i = 0; i < n; ++i) {\n",
        "        std::cin >> numbers[i];\n",
        "    }\n",
        "\n",
        "    std::cout << MaxPairwiseProduct(numbers) << \"\\n\";\n",
        "    return 0;\n",
        "}\n"
      ]
    },
    {
      "cell_type": "code",
      "execution_count": null,
      "metadata": {
        "colab": {
          "base_uri": "https://localhost:8080/"
        },
        "id": "I5pCeOG1Zm7s",
        "outputId": "4507c462-8fdb-430c-c4d8-4881cd270611"
      },
      "outputs": [
        {
          "output_type": "stream",
          "name": "stdout",
          "text": [
            "90\n",
            "40000000000\n"
          ]
        }
      ],
      "source": [
        "!g++ max_pairwise_product_long.cpp -o max_pairwise_product_long\n",
        "!./max_pairwise_product_long < input1.txt\n",
        "!./max_pairwise_product_long < input2.txt"
      ]
    },
    {
      "cell_type": "markdown",
      "metadata": {
        "id": "XPVHkHxH6_7s"
      },
      "source": [
        "### Test 3  stress tests 20  times  random n in [2, 20] "
      ]
    },
    {
      "cell_type": "code",
      "execution_count": null,
      "metadata": {
        "colab": {
          "base_uri": "https://localhost:8080/"
        },
        "id": "PwqpBmYr69fu",
        "outputId": "b974c555-72fe-44b1-e5f4-079141de4456"
      },
      "outputs": [
        {
          "output_type": "stream",
          "name": "stdout",
          "text": [
            "Writing test_stress_test_20_times_random.cpp\n"
          ]
        }
      ],
      "source": [
        "%%writefile test_stress_test_20_times_random.cpp\n",
        "#include <iostream>\n",
        "#include <vector>\n",
        "#include <algorithm>\n",
        "\n",
        "long long MaxPairwiseProduct(const std::vector<int>& numbers) {\n",
        "    long long max_product = 0LL;\n",
        "\t  long long aux_product = 0LL;\n",
        "    int n = numbers.size();\n",
        "\n",
        "    for (int first = 0; first < n; ++first) {\n",
        "        for (int second = first + 1; second < n; ++second) {\n",
        "\t\t\t       aux_product =  (long long) numbers[first] * numbers[second];\n",
        "            if ( max_product < aux_product)  {\n",
        "\t\t\t\t        max_product = aux_product;\n",
        "             }\n",
        "        }\n",
        "    }\n",
        "\n",
        "    return max_product;\n",
        "}\n",
        "\n",
        "int main() {\n",
        "    int m = 0;\n",
        "    while(m < 20){\n",
        "      int n = rand() % 19 + 2;\n",
        "      std::cout << n << \"\\n\";\n",
        "      std::vector<int> a;\n",
        "      for (int i = 0; i < n; ++i){\n",
        "          a.push_back(rand() % 100000);\n",
        "      }\n",
        "      for (int i = 0; i < n; ++i){\n",
        "          std::cout << a[i] << ' ';\n",
        "      }\n",
        "      std::cout << \"\\n\" << MaxPairwiseProduct(a) << \"\\n\\n\";\n",
        "      m++;\n",
        "    }\n",
        "}"
      ]
    },
    {
      "cell_type": "code",
      "execution_count": null,
      "metadata": {
        "colab": {
          "base_uri": "https://localhost:8080/"
        },
        "id": "WoKQWN0qYUaX",
        "outputId": "562d4a95-b9ed-4f65-ef00-ab60a1d093de"
      },
      "outputs": [
        {
          "output_type": "stream",
          "name": "stdout",
          "text": [
            "Writing generate20.cpp\n"
          ]
        }
      ],
      "source": [
        "%%writefile generate20.cpp\n",
        "#include <iostream>\n",
        "#include <time.h>\n",
        "int generate20(){\n",
        "  srand (time(NULL));\n",
        "  int num_input = (rand() %(19)) + 2;\n",
        "  std::cout <<num_input<<\"\\n\";\n",
        "    for(int i=0;i<num_input;i++){\n",
        "        int random = (rand() %(200001));\n",
        "        std::cout << random<< \"\\n\";\n",
        "    }\n",
        "}\n",
        "\n",
        "\n",
        "int main() {\n",
        "    generate20();\n",
        "    return 0;\n",
        "}"
      ]
    },
    {
      "cell_type": "code",
      "execution_count": null,
      "metadata": {
        "colab": {
          "base_uri": "https://localhost:8080/"
        },
        "id": "47Zud_gxYcCH",
        "outputId": "4f455c33-541c-4558-c9ed-a2ef811fa55a"
      },
      "outputs": [
        {
          "output_type": "stream",
          "name": "stdout",
          "text": [
            "35198775326\n",
            "33240525168\n",
            "33240525168\n",
            "15436845600\n",
            "15436845600\n",
            "36939397922\n",
            "36939397922\n",
            "31102052289\n",
            "22251990420\n",
            "22251990420\n",
            "36073186011\n",
            "36073186011\n",
            "27114471870\n",
            "27114471870\n",
            "25326651188\n",
            "25326651188\n",
            "34453312404\n",
            "34453312404\n",
            "33859019600\n",
            "31699174710\n"
          ]
        }
      ],
      "source": [
        "for i in range(20):\n",
        "  !g++ generate20.cpp -o Test3\n",
        "  !./Test3 > InputTest3.txt\n",
        "  !./max_pairwise_product_long < InputTest3.txt"
      ]
    },
    {
      "cell_type": "code",
      "execution_count": null,
      "metadata": {
        "colab": {
          "base_uri": "https://localhost:8080/"
        },
        "id": "Ktn__NhdYhX_",
        "outputId": "d23ceb8e-ce34-4183-dcfa-65139a7bc187"
      },
      "outputs": [
        {
          "output_type": "stream",
          "name": "stdout",
          "text": [
            "4\n",
            "30886 92777 36915 47793 \n",
            "4434091161\n",
            "\n",
            "10\n",
            "85386 60492 16649 41421 2362 90027 68690 20059 97763 13926 \n",
            "8801309601\n",
            "\n",
            "9\n",
            "83426 89172 55736 5211 95368 2567 56429 65782 21530 \n",
            "8504155296\n",
            "\n",
            "8\n",
            "65123 74067 3135 13929 79802 34022 23058 33069 \n",
            "5910694734\n",
            "\n",
            "7\n",
            "61393 18456 75011 78042 76229 77373 84421 \n",
            "6588383682\n",
            "\n",
            "3\n",
            "13784 98537 75198 \n",
            "7409785326\n",
            "\n",
            "11\n",
            "98315 64370 66413 3526 76091 68980 59956 41873 6862 99170 6996 \n",
            "9749898550\n",
            "\n",
            "18\n",
            "2305 20925 77084 36327 60336 26505 50846 21729 61313 25857 16124 53895 19582 545 98814 33367 15434 90364 \n",
            "8929228296\n",
            "\n",
            "2\n",
            "13750 71087 \n",
            "977446250\n",
            "\n",
            "15\n",
            "17276 47178 95788 93584 5403 2651 92754 12399 99932 95060 49676 93368 47739 10012 36226 \n",
            "9572286416\n",
            "\n",
            "7\n",
            "48094 97539 40795 80570 51434 60378 97467 \n",
            "9506833713\n",
            "\n",
            "15\n",
            "10097 12902 73317 70492 26652 60756 97301 60280 24286 9441 53865 29689 28444 46619 58440 \n",
            "7133817417\n",
            "\n",
            "13\n",
            "58031 8117 38097 5771 34481 90675 20709 98927 4567 77856 79497 72353 54586 \n",
            "8970205725\n",
            "\n",
            "6\n",
            "55306 64683 6219 28624 51528 32871 \n",
            "3577357998\n",
            "\n",
            "17\n",
            "48829 9503 30019 58270 63368 59708 86715 26340 18149 47796 723 42618 2245 22846 93451 92921 43555 \n",
            "8683560371\n",
            "\n",
            "19\n",
            "97488 37764 88228 69841 92350 65193 41500 57034 87764 70124 24914 36987 75856 73743 46491 22227 48365 9859 81936 \n",
            "9003016800\n",
            "\n",
            "11\n",
            "52551 16437 99228 53275 75407 1474 76121 68858 94395 36029 61237 \n",
            "9366627060\n",
            "\n",
            "3\n",
            "73793 65818 94428 \n",
            "6968125404\n",
            "\n",
            "10\n",
            "31011 35928 39529 18776 22404 64443 55763 14613 54538 18606 \n",
            "3593535009\n",
            "\n",
            "7\n",
            "2904 44818 35128 70688 97369 67917 69917 \n",
            "6882819872\n",
            "\n"
          ]
        }
      ],
      "source": [
        "!g++ test_stress_test_20_times_random.cpp -o test_stress_test_20_times_random\n",
        "!./test_stress_test_20_times_random"
      ]
    },
    {
      "cell_type": "markdown",
      "metadata": {
        "id": "9z9yr5QkeyJF"
      },
      "source": [
        "### Test 4  time test  measure the execution time running with the the largest worst case file (200000 increasing numbers, 200000 and 200000 the end) "
      ]
    },
    {
      "cell_type": "code",
      "execution_count": null,
      "metadata": {
        "colab": {
          "base_uri": "https://localhost:8080/"
        },
        "id": "oLiMjbAIfPlX",
        "outputId": "8e701caa-83df-4938-a545-6fe1a7401b8f"
      },
      "outputs": [
        {
          "output_type": "stream",
          "name": "stdout",
          "text": [
            "Writing Test2Write.cpp\n"
          ]
        }
      ],
      "source": [
        "%%writefile Test2Write.cpp\n",
        "\n",
        "#include <iostream>\n",
        "#include <fstream>\n",
        "#include <cstdlib>\n",
        "\n",
        "using namespace std;\n",
        "\n",
        "int main() {\n",
        "  // Create and open a text file\n",
        "  ofstream MyFile(\"input3.txt\");\n",
        "\n",
        " MyFile << 200000 <<\"\\n\";  // n \n",
        " for (int i=1; i < 200001; i++){\n",
        "     MyFile << i <<\" \";\n",
        " }\n",
        "  \n",
        "  // Close the file\n",
        "  MyFile.close();\n",
        "}"
      ]
    },
    {
      "cell_type": "code",
      "execution_count": null,
      "metadata": {
        "id": "EH25TkOkZfD9"
      },
      "outputs": [],
      "source": [
        "!g++ Test2Write.cpp -o Test2Write\n",
        "!./Test2Write"
      ]
    },
    {
      "cell_type": "markdown",
      "metadata": {
        "id": "JB6f03qO-lj9"
      },
      "source": [
        "Measure time\n",
        "\n",
        "https://askubuntu.com/questions/53444/how-can-i-measure-the-execution-time-of-a-terminal-process"
      ]
    },
    {
      "cell_type": "code",
      "execution_count": null,
      "metadata": {
        "colab": {
          "base_uri": "https://localhost:8080/"
        },
        "id": "6p2QLEr576zk",
        "outputId": "24f757a2-c25e-493f-96e9-04fce8f1ca2d"
      },
      "outputs": [
        {
          "output_type": "stream",
          "name": "stdout",
          "text": [
            "5 \n",
            "1 2 3 4 \n",
            "5 6 7 9\n",
            "4 5 6 7\n",
            "1 4 7 8\n",
            "9 8 7 4\n",
            "1 2 3 4\n",
            "4 \n",
            "5\n",
            "10 \n",
            "20 \n",
            "12\n",
            "7\n",
            "8\n",
            "9\n",
            "10\n",
            "4\n",
            "5\n",
            "6\n",
            "39999800000\n",
            "\n",
            "real\t2m6.898s\n",
            "user\t2m6.729s\n",
            "sys\t0m0.029s\n"
          ]
        }
      ],
      "source": [
        "!g++ max_pairwise_product_long.cpp -o max_pairwise_product_long\n",
        "!time ./max_pairwise_product_long < input3.txt"
      ]
    },
    {
      "cell_type": "markdown",
      "metadata": {
        "id": "AmZeB2wYjxy5"
      },
      "source": [
        "##### Calculate  the number of instructions executed by the algorithm as a function of n, add in each line a comment with the number of instructions that are executed in that line \n",
        "\n",
        "```cpp\n",
        " int main() {                         //N inst exec by line executed  \n",
        "   \n",
        "    int n;                            //1                      \n",
        "    std::cin >> n;                    //1\n",
        "                                              \n",
        "    std::vector<int> numbers(n);      //n    init vector\n",
        "    .\n",
        "    .\n",
        " }\n",
        "\n",
        "```"
      ]
    },
    {
      "cell_type": "code",
      "execution_count": null,
      "metadata": {
        "colab": {
          "base_uri": "https://localhost:8080/"
        },
        "id": "djGX3FL13g9b",
        "outputId": "270176eb-1660-419e-de67-2c8f8c3c7f74"
      },
      "outputs": [
        {
          "name": "stdout",
          "output_type": "stream",
          "text": [
            "Overwriting test_init_vectors.cpp\n"
          ]
        }
      ],
      "source": [
        "%%writefile test_init_vectors.cpp\n",
        "#include <iostream>\n",
        "#include <vector>\n",
        "#include <algorithm>\n",
        "int main() {                                                               \n",
        "    int n = 10;                                                                                                                            //1\n",
        "    std::vector<int> numbers(n);                                            \n",
        "    for (int i = 0; i < n; ++i) {                                           \n",
        "        std::cout << numbers[i];                                             \n",
        "    }\n",
        "\n",
        "    std::cout << \"\\n\";                       \n",
        "    return 0;                                                              \n",
        "}  "
      ]
    },
    {
      "cell_type": "code",
      "execution_count": null,
      "metadata": {
        "colab": {
          "base_uri": "https://localhost:8080/"
        },
        "id": "44gZcuE237-1",
        "outputId": "5e81bbdd-7156-453d-be01-311266911800"
      },
      "outputs": [
        {
          "name": "stdout",
          "output_type": "stream",
          "text": [
            "\u001b[01m\u001b[Kg++:\u001b[m\u001b[K \u001b[01;31m\u001b[Kerror: \u001b[m\u001b[Ktest_init_vectors.cpp: No such file or directory\n",
            "\u001b[01m\u001b[Kg++:\u001b[m\u001b[K \u001b[01;31m\u001b[Kfatal error: \u001b[m\u001b[Kno input files\n",
            "compilation terminated.\n",
            "/bin/bash: ./test_init_vectors: No such file or directory\n"
          ]
        }
      ],
      "source": [
        "!g++ test_init_vectors.cpp -o test_init_vectors\n",
        "!./test_init_vectors"
      ]
    },
    {
      "cell_type": "code",
      "execution_count": null,
      "metadata": {
        "colab": {
          "base_uri": "https://localhost:8080/"
        },
        "id": "uG6Mv-Pwlkii",
        "outputId": "d45aa335-f421-433b-a785-1bb6f5923da3"
      },
      "outputs": [
        {
          "name": "stdout",
          "output_type": "stream",
          "text": [
            "Overwriting max_pairwise_product_long.cpp\n"
          ]
        }
      ],
      "source": [
        "%%writefile max_pairwise_product_long.cpp\n",
        "#include <iostream>\n",
        "#include <vector>\n",
        "#include <algorithm>\n",
        "\n",
        "long long MaxPairwiseProduct(const std::vector<int>& numbers) {              //N inst exec by line executed \n",
        "    long long max_product = 0LL;                                             //1                                          \n",
        "\t  long long aux_product = 0LL;                                             //1 \n",
        "    int n = numbers.size();                                                  //1 \n",
        "                                                                             \n",
        "    for (int first = 0; first < n; ++first) {                                //1+2n  \n",
        "        for (int second = first + 1; second < n; ++second) {                 //n + (n-1)n \n",
        "\t\t\t       aux_product =  (long long) numbers[first] * numbers[second];    //(n-1)n/2 \n",
        "            if (max_product < aux_product)  {                                //(n-1)n/2 \n",
        "\t\t\t\t        max_product = aux_product;                                   //[0, (n-1)n/2] \n",
        "             }\n",
        "        }\n",
        "    }\n",
        "                                                                             // -------------- \n",
        "    return max_product;                                                      // 4 + 3n + [2(n-1)n, 2.5 (n-1)n] \n",
        "}\n",
        "\n",
        "int main() {                                              //N inst exec by line executed \n",
        "    int n;                                                //1  \n",
        "    std::cin >> n;                                        //1\n",
        "    std::vector<int> numbers(n);                          //n\n",
        "    for (int i = 0; i < n; ++i) {                         //1 + 2n\n",
        "        std::cin >> numbers[i];                           //n\n",
        "    }\n",
        "\n",
        "    std::cout << MaxPairwiseProduct(numbers) << \"\\n\";     //1 + 1  + 4 + 3n + [2(n-1)n, 2.5 (n-1)n]\n",
        "    return 0;                                             // -------------- \n",
        "}                                                         // 9 + 7n + [2(n-1)n, 2.5 (n-1)n]\n"
      ]
    },
    {
      "cell_type": "markdown",
      "metadata": {
        "id": "0vTsUg8OwcHs"
      },
      "source": [
        "Count executed intructions in code and verify with inputs 1, 2 and 3"
      ]
    },
    {
      "cell_type": "code",
      "execution_count": null,
      "metadata": {
        "colab": {
          "base_uri": "https://localhost:8080/"
        },
        "id": "CuRKkqQc137V",
        "outputId": "e7046a16-270e-4627-ea21-820cf4b7740b"
      },
      "outputs": [
        {
          "name": "stdout",
          "output_type": "stream",
          "text": [
            "Writing max_pairwise_product_long_execints.cpp\n"
          ]
        }
      ],
      "source": [
        "%%writefile max_pairwise_product_long_execints.cpp\n",
        "#include <iostream>\n",
        "#include <vector>\n",
        "#include <algorithm>\n",
        "\n",
        "long long MaxPairwiseProduct(const std::vector<int>& numbers, long long &execints) {              //N inst exec by line executed \n",
        "    \n",
        "    long long m = 0LL;                                                       //1\n",
        "    \n",
        "    long long max_product = 0LL;                                             //1\n",
        "    execints++;\n",
        "\n",
        "\t  long long aux_product = 0LL;                                             //1\n",
        "    execints++;\n",
        "\n",
        "    int n = numbers.size();                                                  //1 \n",
        "    execints++;\n",
        "\n",
        "    execints++;                                                                         \n",
        "    for (int first = 0; first < n; ++first) {                                //1+2n  \n",
        "        execints += 2;\n",
        "\n",
        "        long long m = 0LL;\n",
        "\n",
        "        execints++;                                    \n",
        "        for (int second = first + 1; second < n; ++second) {                 //n+ (n-1)n \n",
        "            execints += 2;                                                \n",
        "\n",
        "\t\t\t      aux_product =  (long long) numbers[first] * numbers[second];    //(n-1)n/2 \n",
        "            execints++; \n",
        "\n",
        "            execints++; \n",
        "            if ( max_product < aux_product)  {                               //(n-1)n/2 \n",
        "                       \n",
        "\t\t\t\t        max_product = aux_product;                                   //[0, (n-1)n/2] \n",
        "                execints++; \n",
        "                m++;\n",
        "             }\n",
        "        }\n",
        "        if ( (first <= 10) || (n- first <= 10)) std::cout << m << \"\\n\";\n",
        "    }\n",
        "                                                                            // -------------- \n",
        "    return max_product;                                                     // 4 + 3n + [2(n-1)n, 2.5 (n-1)n] \n",
        "}\n",
        "\n",
        "int main() {                                                 //N inst exec by line executed \n",
        "    long long execints =0LL;\n",
        "\n",
        "    int n;                                                   //1\n",
        "    execints++;                                                              \n",
        "    \n",
        "    std::cin >> n;                                           //1\n",
        "    execints++;\n",
        "\n",
        "    std::vector<int> numbers(n);                             //n\n",
        "    execints += n;\n",
        "    \n",
        "    execints++;\n",
        "    for (int i = 0; i < n; ++i) {                            //1 + 2n\n",
        "        execints += 2;\n",
        "\n",
        "        std::cin >> numbers[i];\n",
        "        execints++;                                          //n\n",
        "    }\n",
        "    \n",
        "    //std::cout << MaxPairwiseProduct(numbers) << \"\\n\";      //1 + 1  + 4 + 3n + [2(n-1)n, 2.5 (n-1)n]\n",
        "\n",
        "    execints++;\n",
        "    int M = MaxPairwiseProduct(numbers,execints);\n",
        "\n",
        "    execints++;\n",
        "    std::cout <<  execints << \"\\n\";                       \n",
        "    return 0;                                                // -------------- \n",
        "}                                                            // 9 + 7n + [2(n-1)n, 2.5 (n-1)n]"
      ]
    },
    {
      "cell_type": "code",
      "execution_count": null,
      "metadata": {
        "colab": {
          "base_uri": "https://localhost:8080/"
        },
        "id": "Kuvm1C05ly2a",
        "outputId": "288ed755-cc9c-4f50-eddd-7bca3fdc78f2"
      },
      "outputs": [
        {
          "name": "stdout",
          "output_type": "stream",
          "text": [
            "9\n",
            "5\n",
            "4\n",
            "3\n",
            "2\n",
            "2\n",
            "2\n",
            "2\n",
            "1\n",
            "0\n",
            "289\n",
            "2\n",
            "1\n",
            "2\n",
            "0\n",
            "0\n",
            "0\n",
            "116\n",
            "199999\n",
            "100000\n",
            "66667\n",
            "50000\n",
            "40000\n",
            "33334\n",
            "28572\n",
            "25000\n",
            "22223\n",
            "20000\n",
            "18182\n",
            "2\n",
            "2\n",
            "2\n",
            "2\n",
            "2\n",
            "2\n",
            "2\n",
            "2\n",
            "1\n",
            "0\n",
            "80003672077\n"
          ]
        }
      ],
      "source": [
        "!g++ max_pairwise_product_long_execints.cpp -o max_pairwise_product_long_execints\n",
        "!./max_pairwise_product_long_execints < input1.txt\n",
        "!./max_pairwise_product_long_execints < input2.txt\n",
        "!./max_pairwise_product_long_execints < input3.txt"
      ]
    },
    {
      "cell_type": "markdown",
      "metadata": {
        "id": "L_uaamxeAHK7"
      },
      "source": [
        "The number of instructions executed by the algooirithm with a list of size $n$ is  \n",
        "\n",
        "$$T = 9 + 7n + [2(n-1)n, 2.5 (n-1)n]$$\n",
        "\n",
        "It depends on the size of the lists and  the order of the list.\n",
        "\n",
        "For the input1.txt \n",
        "```\n",
        "10\n",
        "1 2 3 4 5 6 7 8 9 10\n",
        "```\n",
        "$$T = 9 + 7(10) + 2(9)(10) +  9 + 5 + 4 + 3 + 2 + 2 + 2 + 2 + 1 + 0  = 289 $$\n",
        "\n",
        "For the input2.txt \n",
        "```\n",
        "6\n",
        "1 3 200000 9 200000 23\n",
        "```\n",
        "$$T = 9 + 7(6) + 2(5)(6)  +  2 + 1 + 2 + 0 + 0 + 0 = 116 $$\n",
        "\n",
        "\n",
        "For the input3.txt that is the worst case (n=200000 and list in incresing order)\n",
        "\n",
        "```\n",
        "200000\n",
        "1 2 3 4 5 6 7 8 9 10 ... 199998 199999 200000\n",
        "```\n",
        "\n",
        "$$\n",
        "\\begin{array}{ll}\n",
        "T &= 9 + 7(200000) + (2)(199999)(200000)  + (199999 +\n",
        "100000 + 66667 +50000 \\cdots 2 + 2 + 1)\\\\\n",
        "&= 80003672077  \\\\\n",
        "  &< 9 + 7(200000) + (2.5)(199999)(200000) \\\\\n",
        "  & = 100000900009\n",
        "\\end{array}\n",
        "  $$"
      ]
    },
    {
      "cell_type": "markdown",
      "metadata": {
        "id": "NXW7QkoBL6xH"
      },
      "source": [
        "Calculate estimated time by instruction and number of instructions by second"
      ]
    },
    {
      "cell_type": "code",
      "execution_count": null,
      "metadata": {
        "colab": {
          "base_uri": "https://localhost:8080/"
        },
        "id": "pKqB3i7dIxnc",
        "outputId": "a7fd5776-14e3-49f5-bdb0-dd1a0aef46ed"
      },
      "outputs": [
        {
          "data": {
            "text/plain": [
              "1.5999265618308827e-09"
            ]
          },
          "execution_count": 58,
          "metadata": {},
          "output_type": "execute_result"
        }
      ],
      "source": [
        "# Estimated time by instruction\n",
        "\n",
        "128/80003672077 \n"
      ]
    },
    {
      "cell_type": "code",
      "execution_count": null,
      "metadata": {
        "colab": {
          "base_uri": "https://localhost:8080/"
        },
        "id": "18N1ouqeMhE1",
        "outputId": "d7d4d1bf-b899-4c01-8ecb-e30da3ae6468"
      },
      "outputs": [
        {
          "data": {
            "text/plain": [
              "625028688.1015625"
            ]
          },
          "execution_count": 35,
          "metadata": {
            "tags": []
          },
          "output_type": "execute_result"
        }
      ],
      "source": [
        "# Estimated number of instructions by second\n",
        "\n",
        "1/(128/80003672077) "
      ]
    },
    {
      "cell_type": "markdown",
      "metadata": {
        "id": "CQufozXLNJwO"
      },
      "source": [
        "### Efficient solution"
      ]
    },
    {
      "cell_type": "markdown",
      "metadata": {
        "id": "nLcKBwbU0QsE"
      },
      "source": [
        "Add in each line a coment with the number of intstrcution that are executed in that line"
      ]
    },
    {
      "cell_type": "code",
      "execution_count": null,
      "metadata": {
        "colab": {
          "base_uri": "https://localhost:8080/"
        },
        "id": "knls5Fh3NSt_",
        "outputId": "0dfdecbd-3f28-4185-aeab-9ec9bf927537"
      },
      "outputs": [
        {
          "output_type": "stream",
          "name": "stdout",
          "text": [
            "Overwriting EfficientMaxPro.cpp\n"
          ]
        }
      ],
      "source": [
        "%%writefile EfficientMaxPro.cpp\n",
        "#include <iostream>\n",
        "#include <vector>\n",
        "#include <algorithm>\n",
        "\n",
        "long long MaxPairwiseProduct(const std::vector<int>& numbers) {\n",
        "    long long max = 0;                                        //1\n",
        "    long long max2 = 0;                                       //1                 \n",
        "    int n = numbers.size();                                   //1\n",
        "\n",
        "    for (int i = 0; i < n; ++i) {                             //1 + 2n\n",
        "        if (max<numbers[i]){                                  //n\n",
        "            max2 = max;                                       //[1, n-1]\n",
        "            max = numbers[i];                                 //[1, n-1]  \n",
        "        }\n",
        "        else if(max2<numbers[i]){                             //[1, n-1]\n",
        "            max2 = numbers[i];                                //[1, n-1]\n",
        "        }\n",
        "    }\n",
        "\n",
        "    return (long long) max*max2;                              //1+1\n",
        "                                                              // --------------\n",
        "                                                              //3 + 1 + 2n + n + [2, 2n-2] + [2, 2n-2] = 4 + 3n + [4, 4n-4]\n",
        "}\n",
        "\n",
        "int main() {\n",
        "    int n;                                                    //1\n",
        "    std::cin >> n;                                            //1\n",
        "    std::vector<int> numbers(n);                              //n\n",
        "    for (int i = 0; i < n; ++i) {                             //1 + 2n\n",
        "        std::cin >> numbers[i];                               //n\n",
        "    }\n",
        "\n",
        "    std::cout << MaxPairwiseProduct(numbers) << \"\\n\";         //2 + 4 + 3n + [4, 4n-4]\n",
        "                                                              //---------------\n",
        "    return 0;                                                 //2 + 4 + 3n + [4, 4n-4] + 2 + n + 1 + 3n = 9 + 7n [4, 4n-4]\n",
        "}"
      ]
    },
    {
      "cell_type": "markdown",
      "metadata": {
        "id": "-JCijbWxNSii"
      },
      "source": [
        "Test with inputs 1 and 2\n",
        "\n"
      ]
    },
    {
      "cell_type": "code",
      "execution_count": null,
      "metadata": {
        "colab": {
          "base_uri": "https://localhost:8080/"
        },
        "id": "_7cDJl6MXFZz",
        "outputId": "636a9f99-2942-4ccc-841e-ac0b8a263e25"
      },
      "outputs": [
        {
          "output_type": "stream",
          "name": "stdout",
          "text": [
            "90\n",
            "40000000000\n"
          ]
        }
      ],
      "source": [
        "!g++ EfficientMaxPro.cpp -o EfficientProduct\n",
        "!./EfficientProduct < input1.txt\n",
        "!./EfficientProduct < input2.txt"
      ]
    },
    {
      "cell_type": "markdown",
      "metadata": {
        "id": "PRX51wADNR8b"
      },
      "source": [
        "Test and time it with input 3"
      ]
    },
    {
      "cell_type": "code",
      "execution_count": null,
      "metadata": {
        "id": "v4z7-Is_NRt7",
        "colab": {
          "base_uri": "https://localhost:8080/"
        },
        "outputId": "c7ea558c-a708-4913-ee0d-22000d654738"
      },
      "outputs": [
        {
          "output_type": "stream",
          "name": "stdout",
          "text": [
            "39999800000\n",
            "\n",
            "real\t0m0.063s\n",
            "user\t0m0.057s\n",
            "sys\t0m0.003s\n"
          ]
        }
      ],
      "source": [
        "!time ./EfficientProduct < input3.txt"
      ]
    },
    {
      "cell_type": "markdown",
      "metadata": {
        "id": "rpdfs0_TNZJf"
      },
      "source": [
        "20 stress tests"
      ]
    },
    {
      "cell_type": "code",
      "execution_count": null,
      "metadata": {
        "id": "Lu4tYcKzNcTT",
        "colab": {
          "base_uri": "https://localhost:8080/"
        },
        "outputId": "1c433178-6a7c-4e49-c2e8-51275723fb08"
      },
      "outputs": [
        {
          "output_type": "stream",
          "name": "stdout",
          "text": [
            "Overwriting max_pairwise_product_fast_stress.cpp\n"
          ]
        }
      ],
      "source": [
        "%%writefile max_pairwise_product_fast_stress.cpp\n",
        "#include <iostream>\n",
        "#include <vector>\n",
        "#include <algorithm>\n",
        "\n",
        "long long MaxPairwiseProductFast(const std::vector<int> & numbers) {\n",
        "    int n = numbers.size();\n",
        "\n",
        "    int max_index1 = - 1;\n",
        "    for (int i = 0; i < n; ++i) {\n",
        "        if((max_index1 == -1) || (numbers[i] > numbers[max_index1])) {\n",
        "          max_index1 = i;\n",
        "        }   \n",
        "    }\n",
        "    int max_index2 = - 1;\n",
        "    for (int j = 0; j < n; ++j) {\n",
        "        if((j != max_index1) && ((max_index2 == -1) || (numbers[j] > numbers[max_index2]))) {\n",
        "          max_index2 = j;\n",
        "        }   \n",
        "    }\n",
        "\n",
        "    return ((long long)(numbers[max_index1]) * numbers[max_index2]);\n",
        "}\n",
        "\n",
        "int main() {\n",
        "    int c = 0;\n",
        "    while(c < 20){\n",
        "      int n = rand() % 10 + 2;\n",
        "      std::cout << n << \"\\n\";\n",
        "      std::vector<int> a;\n",
        "      for (int i = 0; i < n; ++i){\n",
        "          a.push_back(rand() % 100000);\n",
        "      }\n",
        "      for (int i = 0; i < n; ++i){\n",
        "          std::cout << a[i] << ' ';\n",
        "      }\n",
        "      std::cout << \"\\n\";\n",
        "      std::cout << \"Answer: \" << MaxPairwiseProductFast(a) << \"\\n\" << \"\\n\";\n",
        "      ++c;\n",
        "    }\n",
        "}"
      ]
    },
    {
      "cell_type": "code",
      "source": [
        "!g++ max_pairwise_product_fast_stress.cpp -o max_pairwise_product_fast_stress\n",
        "!./max_pairwise_product_fast_stress"
      ],
      "metadata": {
        "colab": {
          "base_uri": "https://localhost:8080/"
        },
        "id": "GvBm6VCrLHak",
        "outputId": "fd248f26-d4e6-4092-bbed-66f5c335b0a0"
      },
      "execution_count": null,
      "outputs": [
        {
          "output_type": "stream",
          "name": "stdout",
          "text": [
            "5\n",
            "30886 92777 36915 47793 38335 \n",
            "Answer: 4434091161\n",
            "\n",
            "8\n",
            "60492 16649 41421 2362 90027 68690 20059 97763 \n",
            "Answer: 8801309601\n",
            "\n",
            "8\n",
            "80540 83426 89172 55736 5211 95368 2567 56429 \n",
            "Answer: 8504155296\n",
            "\n",
            "4\n",
            "21530 22862 65123 74067 \n",
            "Answer: 4823465241\n",
            "\n",
            "7\n",
            "13929 79802 34022 23058 33069 98167 61393 \n",
            "Answer: 7833922934\n",
            "\n",
            "8\n",
            "75011 78042 76229 77373 84421 44919 13784 98537 \n",
            "Answer: 8318592077\n",
            "\n",
            "10\n",
            "94324 98315 64370 66413 3526 76091 68980 59956 41873 6862 \n",
            "Answer: 9273464060\n",
            "\n",
            "2\n",
            "6996 97281 \n",
            "Answer: 680577876\n",
            "\n",
            "7\n",
            "20925 77084 36327 60336 26505 50846 21729 \n",
            "Answer: 4650940224\n",
            "\n",
            "5\n",
            "25857 16124 53895 19582 545 \n",
            "Answer: 1393563015\n",
            "\n",
            "6\n",
            "33367 15434 90364 44043 13750 71087 \n",
            "Answer: 6423705668\n",
            "\n",
            "10\n",
            "17276 47178 95788 93584 5403 2651 92754 12399 99932 95060 \n",
            "Answer: 9572286416\n",
            "\n",
            "8\n",
            "93368 47739 10012 36226 98586 48094 97539 40795 \n",
            "Answer: 9615979854\n",
            "\n",
            "2\n",
            "51434 60378 \n",
            "Answer: 3105482052\n",
            "\n",
            "9\n",
            "66601 10097 12902 73317 70492 26652 60756 97301 60280 \n",
            "Answer: 7133817417\n",
            "\n",
            "8\n",
            "9441 53865 29689 28444 46619 58440 44729 58031 \n",
            "Answer: 3391331640\n",
            "\n",
            "9\n",
            "38097 5771 34481 90675 20709 98927 4567 77856 79497 \n",
            "Answer: 8970205725\n",
            "\n",
            "5\n",
            "54586 76965 55306 64683 6219 \n",
            "Answer: 4978327095\n",
            "\n",
            "6\n",
            "51528 32871 5732 48829 9503 30019 \n",
            "Answer: 2516060712\n",
            "\n",
            "2\n",
            "63368 59708 \n",
            "Answer: 3783576544\n",
            "\n"
          ]
        }
      ]
    },
    {
      "cell_type": "markdown",
      "metadata": {
        "id": "L8U4151JNbxk"
      },
      "source": [
        "Count executed instructions in code and verify with inputs 1,2 and 3\n"
      ]
    },
    {
      "cell_type": "code",
      "execution_count": null,
      "metadata": {
        "id": "dh85RM8vNhFz",
        "colab": {
          "base_uri": "https://localhost:8080/"
        },
        "outputId": "b8e88ca3-155a-4a8d-d138-aa1b026d5272"
      },
      "outputs": [
        {
          "output_type": "stream",
          "name": "stdout",
          "text": [
            "5\n",
            "30886 92777 36915 47793 38335 \n",
            "Answer: 4434091161\n",
            "\n",
            "8\n",
            "60492 16649 41421 2362 90027 68690 20059 97763 \n",
            "Answer: 8801309601\n",
            "\n",
            "8\n",
            "80540 83426 89172 55736 5211 95368 2567 56429 \n",
            "Answer: 8504155296\n",
            "\n",
            "4\n",
            "21530 22862 65123 74067 \n",
            "Answer: 4823465241\n",
            "\n",
            "7\n",
            "13929 79802 34022 23058 33069 98167 61393 \n",
            "Answer: 7833922934\n",
            "\n",
            "8\n",
            "75011 78042 76229 77373 84421 44919 13784 98537 \n",
            "Answer: 8318592077\n",
            "\n",
            "10\n",
            "94324 98315 64370 66413 3526 76091 68980 59956 41873 6862 \n",
            "Answer: 9273464060\n",
            "\n",
            "2\n",
            "6996 97281 \n",
            "Answer: 680577876\n",
            "\n",
            "7\n",
            "20925 77084 36327 60336 26505 50846 21729 \n",
            "Answer: 4650940224\n",
            "\n",
            "5\n",
            "25857 16124 53895 19582 545 \n",
            "Answer: 1393563015\n",
            "\n",
            "6\n",
            "33367 15434 90364 44043 13750 71087 \n",
            "Answer: 6423705668\n",
            "\n",
            "10\n",
            "17276 47178 95788 93584 5403 2651 92754 12399 99932 95060 \n",
            "Answer: 9572286416\n",
            "\n",
            "8\n",
            "93368 47739 10012 36226 98586 48094 97539 40795 \n",
            "Answer: 9615979854\n",
            "\n",
            "2\n",
            "51434 60378 \n",
            "Answer: 3105482052\n",
            "\n",
            "9\n",
            "66601 10097 12902 73317 70492 26652 60756 97301 60280 \n",
            "Answer: 7133817417\n",
            "\n",
            "8\n",
            "9441 53865 29689 28444 46619 58440 44729 58031 \n",
            "Answer: 3391331640\n",
            "\n",
            "9\n",
            "38097 5771 34481 90675 20709 98927 4567 77856 79497 \n",
            "Answer: 8970205725\n",
            "\n",
            "5\n",
            "54586 76965 55306 64683 6219 \n",
            "Answer: 4978327095\n",
            "\n",
            "6\n",
            "51528 32871 5732 48829 9503 30019 \n",
            "Answer: 2516060712\n",
            "\n",
            "2\n",
            "63368 59708 \n",
            "Answer: 3783576544\n",
            "\n"
          ]
        }
      ],
      "source": [
        "!g++ max_pairwise_product_fast_stress.cpp -o max_pairwise_product_fast_stress\n",
        "!./max_pairwise_product_fast_stress"
      ]
    },
    {
      "cell_type": "markdown",
      "metadata": {
        "id": "K6ybgCmpNygr"
      },
      "source": [
        "Calculate estimated time by instruction and number of instructions by second"
      ]
    },
    {
      "cell_type": "code",
      "execution_count": null,
      "metadata": {
        "id": "kwe3G1O3Nz1w",
        "colab": {
          "base_uri": "https://localhost:8080/"
        },
        "outputId": "10daccdd-c987-463c-d52b-a6d2794ac19b"
      },
      "outputs": [
        {
          "output_type": "stream",
          "name": "stdout",
          "text": [
            "Overwriting max_pairwise_product_fast_execints.cpp\n"
          ]
        }
      ],
      "source": [
        "%%writefile max_pairwise_product_fast_execints.cpp\n",
        "#include <iostream>\n",
        "#include <vector>\n",
        "#include <algorithm>\n",
        "\n",
        "long long MaxPairwiseProductFast(const std::vector<int>& numbers, long long &execints) {              //N inst exec by line executed \n",
        "\n",
        "    int n = numbers.size();                                                  //1 \n",
        "    execints++;\n",
        "\n",
        "    int max_index1 = - 1;                                                    //1\n",
        "    execints++;\n",
        "\n",
        "    execints++;\n",
        "\n",
        "    long long m1 = 0LL;\n",
        "\n",
        "    for (int i = 0; i < n; ++i) {                                            //1+2n\n",
        "        execints += 2;\n",
        "\n",
        "        execints += 3;\n",
        "        if((max_index1 == -1) || (numbers[i] > numbers[max_index1])) {       //3n\n",
        "          max_index1 = i;                                                    //[0, 3n]\n",
        "          execints++;\n",
        "          m1++;\n",
        "        }  \n",
        "    }\n",
        "\n",
        "    std::cout << m1 << \"\\n\"; \n",
        "\n",
        "  \n",
        "\n",
        "    int max_index2 = - 1;                                                    //1\n",
        "    execints++;\n",
        "\n",
        "\n",
        "    long long m2 = 0LL;\n",
        "    execints++;\n",
        "    for (int j = 0; j < n; ++j) {                                            //1+2n\n",
        "        execints += 2;\n",
        "\n",
        "        execints += 5;\n",
        "        if((j != max_index1) && ((max_index2 == -1) || (numbers[j] > numbers[max_index2]))) {     //5n\n",
        "          max_index2 = j;                                                    //[0, 5n]\n",
        "          execints++;\n",
        "          m2++;\n",
        "        }   \n",
        "    }\n",
        "\n",
        "    std::cout << m2 << \"\\n\";\n",
        "\n",
        "    return ((long long)(numbers[max_index1]) * numbers[max_index2]);         //5 + 4n + [3n, 6n] + [5n, 10n]\n",
        "\n",
        "}\n",
        "\n",
        "int main() {                                                 //N inst exec by line executed \n",
        "    long long execints = 0LL;\n",
        "\n",
        "    int n;                                                   //1\n",
        "    execints++;                                                              \n",
        "    \n",
        "    std::cin >> n;                                           //1\n",
        "    execints++;\n",
        "\n",
        "    std::vector<int> numbers(n);                             //n\n",
        "    execints += n;\n",
        "    \n",
        "    execints++;\n",
        "    for (int i = 0; i < n; ++i) {                            //1 + 2n\n",
        "        execints += 2;\n",
        "\n",
        "        std::cin >> numbers[i];\n",
        "        execints++;                                          //n\n",
        "    }\n",
        "    \n",
        "    //std::cout << MaxPairwiseProductFast(numbers) << \"\\n\";      //1 + 1  + 5 + 4n + [3n, 6n] + [5n, 10n]\n",
        "\n",
        "    execints++;\n",
        "    int M = MaxPairwiseProductFast(numbers,execints);\n",
        "\n",
        "    execints++;\n",
        "    std::cout << execints << \"\\n\" << \"\\n\";                       \n",
        "    return 0;                                                // -------------- \n",
        "}                                                            // 10 + 8n + [3n, 6n] + [5n, 10n]"
      ]
    },
    {
      "cell_type": "code",
      "source": [
        "!g++ max_pairwise_product_fast_execints.cpp -o max_pairwise_product_fast_execints\n",
        "!./max_pairwise_product_fast_execints < input1.txt\n",
        "!./max_pairwise_product_fast_execints < input2.txt\n",
        "!./max_pairwise_product_fast_execints < input3.txt"
      ],
      "metadata": {
        "colab": {
          "base_uri": "https://localhost:8080/"
        },
        "id": "PzHLlfsJLSVS",
        "outputId": "d37eb0b9-ccbb-4d05-f0e2-69d3beb1868e"
      },
      "execution_count": null,
      "outputs": [
        {
          "output_type": "stream",
          "name": "stdout",
          "text": [
            "10\n",
            "9\n",
            "189\n",
            "\n",
            "3\n",
            "4\n",
            "113\n",
            "\n",
            "200000\n",
            "199999\n",
            "3600009\n",
            "\n"
          ]
        }
      ]
    },
    {
      "cell_type": "code",
      "source": [
        "# Input1.txt\n",
        "print(\"Tiempo por instrucción: \", 0.057/3600009)\n",
        "print(\"Número de instrucciones por segundo: \", 1/(0.057/3600009))"
      ],
      "metadata": {
        "colab": {
          "base_uri": "https://localhost:8080/"
        },
        "id": "xG8ghbRGMf65",
        "outputId": "68118348-b709-493d-dc7e-11d49d850528"
      },
      "execution_count": null,
      "outputs": [
        {
          "output_type": "stream",
          "name": "stdout",
          "text": [
            "Tiempo por instrucción:  1.5833293750098958e-08\n",
            "Número de instrucciones por segundo:  63158052.63157895\n"
          ]
        }
      ]
    },
    {
      "cell_type": "code",
      "source": [
        "# Input1.txt\n",
        "print(\"Tiempo por instrucción: \", 65/80003672077)\n",
        "print(\"Número de instrucciones por segundo: \", 1/(65/80003672077))"
      ],
      "metadata": {
        "colab": {
          "base_uri": "https://localhost:8080/"
        },
        "id": "kql_V3B_MgtR",
        "outputId": "c2fb3147-0885-4ee5-d9ab-a07e183b11a9"
      },
      "execution_count": null,
      "outputs": [
        {
          "output_type": "stream",
          "name": "stdout",
          "text": [
            "Tiempo por instrucción:  8.12462707179745e-10\n",
            "Número de instrucciones por segundo:  1230825724.2615385\n"
          ]
        }
      ]
    },
    {
      "cell_type": "code",
      "source": [
        "# Input1.txt\n",
        "print(\"Tiempo por instrucción: \", 2000009/80003672077)\n",
        "print(\"Número de instrucciones por segundo: \", 1/(2000009/80003672077))"
      ],
      "metadata": {
        "colab": {
          "base_uri": "https://localhost:8080/"
        },
        "id": "21lY0gx-MmO5",
        "outputId": "88c4f3f5-615c-41b7-e642-ecc39f759aa0"
      },
      "execution_count": null,
      "outputs": [
        {
          "output_type": "stream",
          "name": "stdout",
          "text": [
            "Tiempo por instrucción:  2.499896502344392e-05\n",
            "Número de instrucciones por segundo:  40001.65603104786\n"
          ]
        }
      ]
    },
    {
      "cell_type": "markdown",
      "metadata": {
        "id": "sc9nOLQrfTm0"
      },
      "source": [
        "### Super efficient solution\n",
        "\n",
        "Whitout storing the list in memory and whitout calling a function, add in each line a coment with the number of intstrcution that are executed in that line "
      ]
    },
    {
      "cell_type": "code",
      "execution_count": null,
      "metadata": {
        "id": "hBLt_xBQLy8E",
        "colab": {
          "base_uri": "https://localhost:8080/"
        },
        "outputId": "abbcc8a6-4b44-44a4-e710-efe53f2aa715"
      },
      "outputs": [
        {
          "output_type": "stream",
          "name": "stdout",
          "text": [
            "Overwriting EfficientMaxProSuper.cpp\n"
          ]
        }
      ],
      "source": [
        "%%writefile EfficientMaxProSuper.cpp\n",
        "#include <iostream>\n",
        "#include <vector>\n",
        "#include <algorithm>\n",
        "\n",
        "int main() {\n",
        "    \n",
        "    long long max = 0;                                        //1\n",
        "    long long max2 = 0;                                       //1\n",
        "    int n;                                                    //1\n",
        "    std::cin >> n;                                            //1\n",
        "    int number = 0;                                           //1\n",
        "    for (int i = 0; i < n; ++i) {                             //1 + 2n\n",
        "        std::cin >> number;                                   //n\n",
        "        if (max<number){                                      //n\n",
        "            max2 = max;                                       //[1, n-1]\n",
        "            max = number;                                     //[1, n-1]  \n",
        "        }\n",
        "        else if(max2<number){                             //[1, n-1]\n",
        "            max2 = number;                                //[1, n-1]\n",
        "        }\n",
        "    }\n",
        "    long long total = (long long) max*max2;                 //1\n",
        "    std::cout << total << \"\\n\";                             //1\n",
        "                                                              //---------------\n",
        "    return 0;                                                 //8 + 2n + n + n + [4, 4n-4] = 8 + 4n + [4, 4n-4] \n",
        "}"
      ]
    },
    {
      "cell_type": "markdown",
      "metadata": {
        "id": "683gc3roHqzb"
      },
      "source": [
        "Test with inputs 1 and 2\n",
        "\n",
        "\n",
        " "
      ]
    },
    {
      "cell_type": "code",
      "execution_count": null,
      "metadata": {
        "id": "b7d4LA8OIc2_",
        "colab": {
          "base_uri": "https://localhost:8080/"
        },
        "outputId": "1b197da1-852e-4049-d89d-b61ac79613df"
      },
      "outputs": [
        {
          "output_type": "stream",
          "name": "stdout",
          "text": [
            "90\n",
            "40000000000\n"
          ]
        }
      ],
      "source": [
        "!g++ EfficientMaxProSuper.cpp -o EfficientProductSuper\n",
        "!./EfficientProductSuper < input1.txt\n",
        "!./EfficientProductSuper < input2.txt"
      ]
    },
    {
      "cell_type": "markdown",
      "metadata": {
        "id": "36Ugn1odIeJz"
      },
      "source": [
        "Test and time it with input 3"
      ]
    },
    {
      "cell_type": "code",
      "execution_count": null,
      "metadata": {
        "id": "jDyMbCnxHqSN",
        "colab": {
          "base_uri": "https://localhost:8080/"
        },
        "outputId": "880f2237-edcc-4dab-876f-45aed5054605"
      },
      "outputs": [
        {
          "output_type": "stream",
          "name": "stdout",
          "text": [
            "39999800000\n"
          ]
        }
      ],
      "source": [
        "!./EfficientProductSuper < input3.txt"
      ]
    },
    {
      "cell_type": "markdown",
      "metadata": {
        "id": "bhqiKQG6fjKM"
      },
      "source": [
        "20 stress tests "
      ]
    },
    {
      "cell_type": "code",
      "execution_count": null,
      "metadata": {
        "id": "2KsiXKhALzwm",
        "colab": {
          "base_uri": "https://localhost:8080/"
        },
        "outputId": "104db524-3b39-494b-adbc-dfb5a333648b"
      },
      "outputs": [
        {
          "output_type": "stream",
          "name": "stdout",
          "text": [
            "Overwriting max_pairwise_product_super_efficient_stress.cpp\n"
          ]
        }
      ],
      "source": [
        "%%writefile max_pairwise_product_super_efficient_stress.cpp\n",
        "#include <iostream>\n",
        "#include <vector>\n",
        "#include <algorithm>\n",
        "\n",
        "long long MaxPairwiseProductSuperEfficient(const std::vector<int> & numbers) {         \n",
        "    int n = numbers.size();                                                 \n",
        "\n",
        "    int max_index1 = - 1;                                                    \n",
        "    int max_index2 = - 1;                                                    \n",
        "\n",
        "    for (int i = 0; i < n; ++i) {                                            \n",
        "        if(numbers[i] > numbers[max_index1]) {                               \n",
        "          max_index2 = max_index1;                                           \n",
        "          max_index1 = i;                                                    \n",
        "        }\n",
        "        else if(numbers[i] > numbers[max_index2]){                           \n",
        "            max_index2 = i;                                                  \n",
        "        }\n",
        "    }\n",
        "\n",
        "    return ((long long)(numbers[max_index1]) * numbers[max_index2]);         \n",
        "}\n",
        "\n",
        "int main() {\n",
        "    int c = 0;\n",
        "    while(c < 20){\n",
        "      int n = rand() % 10 + 2;\n",
        "      std::cout << n << \"\\n\";\n",
        "      std::vector<int> a;\n",
        "      for (int i = 0; i < n; ++i){\n",
        "          a.push_back(rand() % 100000);\n",
        "      }\n",
        "      for (int i = 0; i < n; ++i){\n",
        "          std::cout << a[i] << ' ';\n",
        "      }\n",
        "      std::cout << \"\\n\";\n",
        "      std::cout << \"Answer: \" << MaxPairwiseProductSuperEfficient(a) << \"\\n\" << \"\\n\";\n",
        "      ++c;\n",
        "    }\n",
        "}"
      ]
    },
    {
      "cell_type": "code",
      "source": [
        "!g++ max_pairwise_product_super_efficient_stress.cpp -o max_pairwise_product_super_efficient_stress\n",
        "!./max_pairwise_product_super_efficient_stress"
      ],
      "metadata": {
        "colab": {
          "base_uri": "https://localhost:8080/"
        },
        "id": "4YYwaZs3b62R",
        "outputId": "7e27c44a-fb33-4452-8520-70c167eb233d"
      },
      "execution_count": null,
      "outputs": [
        {
          "output_type": "stream",
          "name": "stdout",
          "text": [
            "5\n",
            "30886 92777 36915 47793 38335 \n",
            "Answer: 4434091161\n",
            "\n",
            "8\n",
            "60492 16649 41421 2362 90027 68690 20059 97763 \n",
            "Answer: 8801309601\n",
            "\n",
            "8\n",
            "80540 83426 89172 55736 5211 95368 2567 56429 \n",
            "Answer: 8504155296\n",
            "\n",
            "4\n",
            "21530 22862 65123 74067 \n",
            "Answer: 4823465241\n",
            "\n",
            "7\n",
            "13929 79802 34022 23058 33069 98167 61393 \n",
            "Answer: 7833922934\n",
            "\n",
            "8\n",
            "75011 78042 76229 77373 84421 44919 13784 98537 \n",
            "Answer: 8318592077\n",
            "\n",
            "10\n",
            "94324 98315 64370 66413 3526 76091 68980 59956 41873 6862 \n",
            "Answer: 9273464060\n",
            "\n",
            "2\n",
            "6996 97281 \n",
            "Answer: 3173792625\n",
            "\n",
            "7\n",
            "20925 77084 36327 60336 26505 50846 21729 \n",
            "Answer: 4650940224\n",
            "\n",
            "5\n",
            "25857 16124 53895 19582 545 \n",
            "Answer: 1393563015\n",
            "\n",
            "6\n",
            "33367 15434 90364 44043 13750 71087 \n",
            "Answer: 6423705668\n",
            "\n",
            "10\n",
            "17276 47178 95788 93584 5403 2651 92754 12399 99932 95060 \n",
            "Answer: 9572286416\n",
            "\n",
            "8\n",
            "93368 47739 10012 36226 98586 48094 97539 40795 \n",
            "Answer: 9615979854\n",
            "\n",
            "2\n",
            "51434 60378 \n",
            "Answer: 3105482052\n",
            "\n",
            "9\n",
            "66601 10097 12902 73317 70492 26652 60756 97301 60280 \n",
            "Answer: 7133817417\n",
            "\n",
            "8\n",
            "9441 53865 29689 28444 46619 58440 44729 58031 \n",
            "Answer: 3391331640\n",
            "\n",
            "9\n",
            "38097 5771 34481 90675 20709 98927 4567 77856 79497 \n",
            "Answer: 8970205725\n",
            "\n",
            "5\n",
            "54586 76965 55306 64683 6219 \n",
            "Answer: 4978327095\n",
            "\n",
            "6\n",
            "51528 32871 5732 48829 9503 30019 \n",
            "Answer: 2516060712\n",
            "\n",
            "2\n",
            "63368 59708 \n",
            "Answer: 3783576544\n",
            "\n"
          ]
        }
      ]
    },
    {
      "cell_type": "markdown",
      "metadata": {
        "id": "fEXj8GHJH5p1"
      },
      "source": [
        "Count executed instructions in code and verify with inputs 1,2 and 3"
      ]
    },
    {
      "cell_type": "code",
      "execution_count": null,
      "metadata": {
        "id": "LF1DHjKXIAsF",
        "colab": {
          "base_uri": "https://localhost:8080/"
        },
        "outputId": "bebea58e-4d8e-4c64-b2ab-a621191446d7"
      },
      "outputs": [
        {
          "output_type": "stream",
          "name": "stdout",
          "text": [
            "Overwriting EfficientMaxProSuperEfficiente.cpp\n"
          ]
        }
      ],
      "source": [
        "%%writefile EfficientMaxProSuperEfficiente.cpp\n",
        "#include <iostream>\n",
        "#include <vector>\n",
        "#include <algorithm>\n",
        "\n",
        "long long MaxPairwiseProductSuperEfficient(const std::vector<int> & numbers, long long &execints) {         //N inst exec by line executed\n",
        "    int n = numbers.size();                                                  //1\n",
        "    execints++;\n",
        "    int max_index1 = - 1;                                                    //1\n",
        "    execints++;\n",
        "    int max_index2 = - 1;                                                    //1\n",
        "    execints++;\n",
        "\n",
        "    execints++;\n",
        "\n",
        "    long long m1 = 0LL;\n",
        "    long long m2 = 0LL;\n",
        "\n",
        "    for (int i = 0; i < n; ++i) {                                            //1+2n\n",
        "        execints+=2;\n",
        "\n",
        "        execints++;\n",
        "        if(numbers[i] > numbers[max_index1]) {                               //n\n",
        "          m1+=2;\n",
        "          max_index2 = max_index1;                                           \n",
        "          max_index1 = i;                                                    //[0, 2n]\n",
        "          execints+=2;   \n",
        "        }\n",
        "        else if(numbers[i] > numbers[max_index2]){                           //[0, n]\n",
        "            m2+=2;\n",
        "            execints++;\n",
        "            max_index2 = i;                                                  //[0, n]\n",
        "            execints++;\n",
        "        }\n",
        "        else{\n",
        "            m2++;\n",
        "            execints++;\n",
        "        }\n",
        "    }\n",
        "\n",
        "    std::cout << m1 << \"\\n\" << m2 << \"\\n\";\n",
        "\n",
        "    return ((long long)(numbers[max_index1]) * numbers[max_index2]);         //4 + 2n + [n, 3n] + [0, 2n]\n",
        "}\n",
        "\n",
        "int main() {                                                               //N inst exec by line executed\n",
        "    long long execints = 0LL;\n",
        "    int n;                                                                   //1\n",
        "    execints++;   \n",
        "    std::cin >> n;                                                           //1\n",
        "    execints++;   \n",
        "    std::vector<int> numbers(n);                                             //n\n",
        "    execints+=n;   \n",
        "\n",
        "    execints++;   \n",
        "    for (int i = 0; i < n; ++i) {                                            //1+2n\n",
        "        execints+=2;   \n",
        "        std::cin >> numbers[i];                                              //n\n",
        "        execints++;   \n",
        "    }\n",
        "\n",
        "    //std::cout << MaxPairwiseProductSuperEfficient(numbers) << \"\\n\";           // 1 + 1  + 4 + 2n + [n, 3n] + [0, 2n]\n",
        "\n",
        "    execints++;\n",
        "    int M = MaxPairwiseProductSuperEfficient(numbers,execints);\n",
        "\n",
        "    execints++;\n",
        "    std::cout << execints << \"\\n\" << \"\\n\";                       \n",
        "    return 0;                                                                // -------------- \n",
        "}                                                                            // 9 + 6n + [n, 3n] + [0, 2n]"
      ]
    },
    {
      "cell_type": "markdown",
      "metadata": {
        "id": "yae7sSm2IG9U"
      },
      "source": [
        "Calculate estimated time by instruction and number of instructions by second"
      ]
    },
    {
      "cell_type": "code",
      "execution_count": null,
      "metadata": {
        "id": "suouY7BYL2dz",
        "colab": {
          "base_uri": "https://localhost:8080/"
        },
        "outputId": "76692fcd-1dbd-42a0-ebed-7dd4780b7201"
      },
      "outputs": [
        {
          "output_type": "stream",
          "name": "stdout",
          "text": [
            "20\n",
            "0\n",
            "99\n",
            "\n",
            "6\n",
            "5\n",
            "62\n",
            "\n",
            "400000\n",
            "0\n",
            "1800009\n",
            "\n"
          ]
        }
      ],
      "source": [
        "!g++ EfficientMaxProSuperEfficiente.cpp -o EfficientProductSuperEfficiente\n",
        "!./EfficientProductSuperEfficiente < input1.txt\n",
        "!./EfficientProductSuperEfficiente < input2.txt\n",
        "!./EfficientProductSuperEfficiente < input3.txt"
      ]
    },
    {
      "cell_type": "markdown",
      "metadata": {
        "id": "LkVxxlhl9H98"
      },
      "source": [
        "# Codeforces problem https://codeforces.com/contest/1619/problem/A \n",
        "\n",
        "Solve the problem in Colab, submit the solution to Codeforces and add a screenshoot of the submission."
      ]
    },
    {
      "cell_type": "markdown",
      "source": [
        "![image.png](data:image/png;base64,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)"
      ],
      "metadata": {
        "id": "FYFhA-hZ3zo0"
      }
    },
    {
      "cell_type": "code",
      "source": [
        "t = int(input())\n",
        "for t1 in range(t):\n",
        "    s = input()\n",
        "    n = len(s)\n",
        "    ans = \"no\"\n",
        "    if n % 2 == 0:\n",
        "        if s[:n//2]==s[n//2:]:\n",
        "            ans = \"yes\"\n",
        "    print(ans)"
      ],
      "metadata": {
        "id": "YGJj468h38IN"
      },
      "execution_count": null,
      "outputs": []
    },
    {
      "cell_type": "markdown",
      "source": [
        "![image.png](data:image/png;base64,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)"
      ],
      "metadata": {
        "id": "ACjHga7W38uC"
      }
    },
    {
      "cell_type": "code",
      "source": [
        "#include <bits/stdc++.h>\n",
        " \n",
        "#define long long long\n",
        "#define Integer_MAX_VALUE 0x7fffffff\n",
        "#define Integer_MIN_VALUE 0x80000000\n",
        "#define Long_MAX_VALUE 0x7fffffffffffffffL\n",
        "#define Long_MIN_VALUE 0x8000000000000000L\n",
        " \n",
        "using namespace std;\n",
        " \n",
        "struct Solution\n",
        "{\n",
        "    void run()\n",
        "    {\n",
        "        string s;\n",
        "        cin >> s;\n",
        "        int len = s.length();\n",
        " \n",
        "        if (len % 2 != 0)\n",
        "        {\n",
        "            cout << \"NO\" << endl;\n",
        "            return;\n",
        "        }\n",
        " \n",
        "        for (int i = 0; i < len / 2; i++)\n",
        "        {\n",
        "            if (s[i] != s[i + len / 2])\n",
        "            {\n",
        "                cout << \"NO\" << endl;\n",
        "                return;\n",
        "            }\n",
        "        }\n",
        "        cout << \"YES\" << endl;\n",
        "    }\n",
        "};\n",
        " \n",
        "int main()\n",
        "{\n",
        "    ios_base::sync_with_stdio(false);\n",
        " \n",
        "    Solution solution = Solution();\n",
        " \n",
        "    int t;\n",
        "    cin >> t;\n",
        "    for (int i = 0; i < t; i++)\n",
        "    {\n",
        "        solution.run();\n",
        "    }\n",
        "    return 0;\n",
        "}"
      ],
      "metadata": {
        "id": "MX_vtK4D3-75"
      },
      "execution_count": null,
      "outputs": []
    }
  ],
  "metadata": {
    "colab": {
      "collapsed_sections": [],
      "name": "group1AlgorithmicToolboxWeek1.ipynb",
      "provenance": [],
      "include_colab_link": true
    },
    "kernelspec": {
      "display_name": "Python 3",
      "name": "python3"
    },
    "language_info": {
      "name": "python"
    }
  },
  "nbformat": 4,
  "nbformat_minor": 0
}