{
  "nbformat": 4,
  "nbformat_minor": 0,
  "metadata": {
    "colab": {
      "name": "Lab 12 - g1 REVISAR.ipynb",
      "provenance": [],
      "collapsed_sections": []
    },
    "kernelspec": {
      "name": "python3",
      "display_name": "Python 3"
    },
    "language_info": {
      "name": "python"
    }
  },
  "cells": [
    {
      "cell_type": "markdown",
      "source": [
        "# **AlgorithmicToolbox Week 3: Greedy Algorithms**"
      ],
      "metadata": {
        "id": "RuXtjpyphCtX"
      }
    },
    {
      "cell_type": "markdown",
      "source": [
        "### 3-1: Money Change\n"
      ],
      "metadata": {
        "id": "iL4WeEqpha-W"
      }
    },
    {
      "cell_type": "code",
      "source": [
        "n = int(input())\n",
        "x = 0\n",
        "for i in [10, 5, 1]:\n",
        "    if n>=i:\n",
        "        q = n//i\n",
        "        x += q\n",
        "        n = n%i\n",
        "        if n==0:\n",
        "            print(x)\n",
        "            quit()"
      ],
      "metadata": {
        "colab": {
          "base_uri": "https://localhost:8080/"
        },
        "id": "0lVKyY-Mh1__",
        "outputId": "c74b7d79-1991-46b4-b6c8-f0ec13414e39"
      },
      "execution_count": null,
      "outputs": [
        {
          "output_type": "stream",
          "name": "stdout",
          "text": [
            "100\n",
            "10\n"
          ]
        }
      ]
    },
    {
      "cell_type": "markdown",
      "source": [
        "### 3-2: Maximun Value of the Loot (Fractional Knapsack)"
      ],
      "metadata": {
        "id": "xpuXZhdioct1"
      }
    },
    {
      "cell_type": "code",
      "source": [
        "n, m = [int(i) for i in input().split()]\n",
        "lst = []\n",
        "\n",
        "if m == 0:\n",
        "    print(0)\n",
        "    quit()\n",
        "\n",
        "for h in range(n):\n",
        "    v, w = [int(i) for i in input().split()]\n",
        "    if v == 0:\n",
        "        continue\n",
        "    lst.append((v, w))\n",
        "\n",
        "lst.sort(key = lambda x: x[0]/x[1], reverse = True)\n",
        "\n",
        "t = 0\n",
        "\n",
        "for v,w in lst:\n",
        "    if m==0:\n",
        "        print(t)\n",
        "        break\n",
        "    d = min(w, m)\n",
        "    t += d*v/w\n",
        "    m -= d\n",
        "\n",
        "print(t)"
      ],
      "metadata": {
        "colab": {
          "base_uri": "https://localhost:8080/"
        },
        "id": "Gf3tp06HocIl",
        "outputId": "3d8fb536-80ce-41a8-ce58-21b186a344e3"
      },
      "execution_count": null,
      "outputs": [
        {
          "output_type": "stream",
          "name": "stdout",
          "text": [
            "2 30\n",
            "15 45\n",
            "20 55\n",
            "10.909090909090908\n",
            "10.909090909090908\n"
          ]
        }
      ]
    },
    {
      "cell_type": "markdown",
      "source": [
        "### 3-3: Car Fueling"
      ],
      "metadata": {
        "id": "Bg0VzOGNHAw1"
      }
    },
    {
      "cell_type": "code",
      "source": [
        "d = int(input())\n",
        "m = int(input())\n",
        "n = int(input())\n",
        "lp = list(map(int, input().split()))\n",
        "\n",
        "lp.append(d)\n",
        "np = 0\n",
        "ld = d\n",
        "cd = 0\n",
        "for i in range(len(lp) - 1):\n",
        "    if (ld == 0):\n",
        "        break\n",
        "    elif ((lp[i + 1] - lp[i]) > m):\n",
        "        np = -1\n",
        "        break\n",
        "    elif ((cd + m) >= lp[i] and (cd + m) < lp[i + 1]):\n",
        "        cd = lp[i]\n",
        "        ld = d - lp[i]\n",
        "        np +=  1\n",
        "\n",
        "print(np)"
      ],
      "metadata": {
        "colab": {
          "base_uri": "https://localhost:8080/"
        },
        "id": "JD5fYCJzHGAE",
        "outputId": "21997219-684d-4040-d699-ed1e24058b46"
      },
      "execution_count": null,
      "outputs": [
        {
          "output_type": "stream",
          "name": "stdout",
          "text": [
            "0\n",
            "2\n",
            "3\n",
            "4\n",
            "0\n"
          ]
        }
      ]
    },
    {
      "cell_type": "markdown",
      "source": [
        "### 3-4: Maximum Advertisement Revenue (Maximum Dot Product)"
      ],
      "metadata": {
        "id": "NUEZXR3FLLPs"
      }
    },
    {
      "cell_type": "code",
      "source": [
        "n = int(input())\n",
        "a = [int(i) for i in input().split()]\n",
        "b = [int(i) for i in input().split()]\n",
        "a.sort()\n",
        "b.sort()\n",
        "\n",
        "maxa = sum([a[i]*b[i] for i in range(n)])\n",
        "print(maxa)"
      ],
      "metadata": {
        "colab": {
          "base_uri": "https://localhost:8080/"
        },
        "id": "7p_lsR6DLPSM",
        "outputId": "f1cb1a7e-6ff8-45d1-a409-3d60755eaed8"
      },
      "execution_count": null,
      "outputs": [
        {
          "output_type": "stream",
          "name": "stdout",
          "text": [
            "5\n",
            "1 2 3 4 5\n",
            "6 7 8 9 0\n",
            "110\n"
          ]
        }
      ]
    },
    {
      "cell_type": "markdown",
      "source": [
        "### 3-5: Collecting Signatures (Covering Segments by Points)"
      ],
      "metadata": {
        "id": "1_Br-hj5LPcT"
      }
    },
    {
      "cell_type": "code",
      "source": [
        "n = int(input())\n",
        "L = []\n",
        "\n",
        "for h in range(n):\n",
        "    a, b = [int(i) for i in input().split()]\n",
        "    L.append((a,b))\n",
        "\n",
        "L.sort(key = lambda x: x[1])\n",
        "\n",
        "i = 0\n",
        "co = []\n",
        "\n",
        "while i < n:\n",
        "    ac = L[i]\n",
        "    while i < n-1 and ac[1]>=L[i+1][0]:\n",
        "        i += 1\n",
        "    co.append(ac[1])\n",
        "    i += 1\n",
        "print(len(co))\n",
        "print(' '.join([str(i) for i in co]))"
      ],
      "metadata": {
        "colab": {
          "base_uri": "https://localhost:8080/"
        },
        "id": "qCFX2cTMLRuE",
        "outputId": "bc282578-a79c-4675-965f-6bd695a8ffbc"
      },
      "execution_count": null,
      "outputs": [
        {
          "output_type": "stream",
          "name": "stdout",
          "text": [
            "2\n",
            "4 5\n",
            "6 7\n",
            "2\n",
            "5 7\n"
          ]
        }
      ]
    },
    {
      "cell_type": "markdown",
      "source": [
        "### 3-6: Maximum Number of Prizes (Different Summands)"
      ],
      "metadata": {
        "id": "GA_of_BxLR7c"
      }
    },
    {
      "cell_type": "code",
      "source": [
        "n = int(input())\n",
        "if n == 1:\n",
        "    print(1)\n",
        "    print(1)\n",
        "    quit()\n",
        "m = n\n",
        "prizes = []\n",
        "for i in range(1, n):\n",
        "    if m>2*i:\n",
        "        prizes.append(i)\n",
        "        m -= i\n",
        "    else:\n",
        "        prizes.append(m)\n",
        "        break\n",
        "\n",
        "print(len(prizes))\n",
        "print(' '.join([str(i) for i in prizes]))"
      ],
      "metadata": {
        "colab": {
          "base_uri": "https://localhost:8080/"
        },
        "id": "kNZdgNFcLTzc",
        "outputId": "d2dc07e2-e99f-47c0-ef56-ac5411fec637"
      },
      "execution_count": null,
      "outputs": [
        {
          "output_type": "stream",
          "name": "stdout",
          "text": [
            "7\n",
            "3\n",
            "1 2 4\n"
          ]
        }
      ]
    },
    {
      "cell_type": "markdown",
      "source": [
        "### 3-7: Maximum Salary (Largest Number)"
      ],
      "metadata": {
        "id": "ZzIzBxFMLT6D"
      }
    },
    {
      "cell_type": "code",
      "source": [
        "n = int(input())\n",
        "l = list(map(int, input().split()))\n",
        "\n",
        "sal = []\n",
        "\n",
        "while l!=[]:\n",
        "    maxd = 0\n",
        "    for i in l:\n",
        "        if int(str(i)+str(maxd))>=int(str(maxd)+str(i)):\n",
        "            maxd = i\n",
        "    sal.append(maxd)\n",
        "    l.remove(maxd)\n",
        "\n",
        "print(''.join([str(i) for i in sal]))"
      ],
      "metadata": {
        "colab": {
          "base_uri": "https://localhost:8080/"
        },
        "id": "seLfai8QO7B8",
        "outputId": "e9984f25-bc52-43b8-8f76-55cf3d6fc4a8"
      },
      "execution_count": null,
      "outputs": [
        {
          "output_type": "stream",
          "name": "stdout",
          "text": [
            "5\n",
            "3 5 6 8 3\n",
            "86533\n"
          ]
        }
      ]
    }
  ]
}